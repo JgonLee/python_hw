{
 "cells": [
  {
   "cell_type": "code",
   "execution_count": 1,
   "id": "178ce813-4f43-4921-be04-1288cb957ac8",
   "metadata": {},
   "outputs": [],
   "source": [
    "result=0"
   ]
  },
  {
   "cell_type": "code",
   "execution_count": 2,
   "id": "03755262-1276-4a95-a074-5909931cea8e",
   "metadata": {},
   "outputs": [
    {
     "name": "stdout",
     "output_type": "stream",
     "text": [
      "3\n",
      "7\n"
     ]
    }
   ],
   "source": [
    "def adder(num):\n",
    "    global result\n",
    "    result += num \n",
    "    return result\n",
    "\n",
    "print(adder(3))\n",
    "print(adder(4))"
   ]
  },
  {
   "cell_type": "code",
   "execution_count": 3,
   "id": "fbb42ada-face-4654-8f0f-d1ce58e782c3",
   "metadata": {},
   "outputs": [
    {
     "name": "stdout",
     "output_type": "stream",
     "text": [
      "11\n"
     ]
    }
   ],
   "source": [
    "print(adder(4))"
   ]
  },
  {
   "cell_type": "code",
   "execution_count": 4,
   "id": "6a9cb761-d457-490e-9f4a-82741e8aed91",
   "metadata": {},
   "outputs": [
    {
     "name": "stdout",
     "output_type": "stream",
     "text": [
      "16\n"
     ]
    }
   ],
   "source": [
    "print(adder(5))"
   ]
  },
  {
   "cell_type": "code",
   "execution_count": 5,
   "id": "7aeee0c4-76fb-4511-891d-02b8c3659a9d",
   "metadata": {},
   "outputs": [],
   "source": [
    "#연산기기 두개가 필요하다면"
   ]
  },
  {
   "cell_type": "code",
   "execution_count": 8,
   "id": "5ade6221-b354-4230-b488-822cb9bd9f00",
   "metadata": {},
   "outputs": [
    {
     "name": "stdout",
     "output_type": "stream",
     "text": [
      "3\n",
      "7\n",
      "3\n",
      "10\n"
     ]
    }
   ],
   "source": [
    "result1=0\n",
    "result2=0\n",
    "\n",
    "def adder1(num):\n",
    "    global result1\n",
    "    result1 += num\n",
    "    return result1\n",
    "\n",
    "def adder2(num):\n",
    "    global result2\n",
    "    result2 += num\n",
    "    return result2\n",
    "\n",
    "print(adder1(3))\n",
    "print(adder1(4))\n",
    "print(adder2(3))\n",
    "print(adder2(7))\n",
    "\n"
   ]
  },
  {
   "cell_type": "code",
   "execution_count": 9,
   "id": "435241b2-2234-4115-ae3b-c5ccbf4911a1",
   "metadata": {},
   "outputs": [],
   "source": [
    "#클래스사용, 계산기 객체 여러개 생성"
   ]
  },
  {
   "cell_type": "code",
   "execution_count": 12,
   "id": "020ba033-807f-419b-8567-62cb338ae358",
   "metadata": {},
   "outputs": [
    {
     "name": "stdout",
     "output_type": "stream",
     "text": [
      "3\n",
      "7\n",
      "3\n",
      "10\n"
     ]
    }
   ],
   "source": [
    "class Calculator:\n",
    "    def __init__(self):\n",
    "        self.result =0 \n",
    "\n",
    "    def adder(self,num):\n",
    "        self.result += num\n",
    "        return self.result\n",
    "cal1 = Calculator()\n",
    "cal2 = Calculator()\n",
    "\n",
    "print(cal1.adder(3))\n",
    "print(cal1.adder(4))\n",
    "print(cal2.adder(3))\n",
    "print(cal2.adder(7))"
   ]
  },
  {
   "cell_type": "code",
   "execution_count": 14,
   "id": "db071fc4-da72-4eae-8f3b-8a1705be92a5",
   "metadata": {},
   "outputs": [],
   "source": [
    "class Service:\n",
    "    secret = \"지구는 4006년에 멸망한다.\""
   ]
  },
  {
   "cell_type": "code",
   "execution_count": 15,
   "id": "5007fcb7-2a20-411a-adf9-9ce116e7bcbd",
   "metadata": {},
   "outputs": [],
   "source": [
    "an = Service()"
   ]
  },
  {
   "cell_type": "code",
   "execution_count": 16,
   "id": "1756567b-5057-46b4-86be-933aacaa5a55",
   "metadata": {},
   "outputs": [
    {
     "data": {
      "text/plain": [
       "'지구는 4006년에 멸망한다.'"
      ]
     },
     "execution_count": 16,
     "metadata": {},
     "output_type": "execute_result"
    }
   ],
   "source": [
    "an.secret"
   ]
  },
  {
   "cell_type": "code",
   "execution_count": 17,
   "id": "8ae10a05-6ad3-45eb-99a9-bf3e4976515e",
   "metadata": {},
   "outputs": [
    {
     "data": {
      "text/plain": [
       "'지구는 4006년에 멸망한다.'"
      ]
     },
     "execution_count": 17,
     "metadata": {},
     "output_type": "execute_result"
    }
   ],
   "source": [
    "Service.secret"
   ]
  },
  {
   "cell_type": "code",
   "execution_count": 18,
   "id": "3ac205d2-3c9f-40a9-87cf-ea99d04d0f86",
   "metadata": {},
   "outputs": [],
   "source": [
    "Service.secret = '지구가 4006년에 멸망한다는 것은 뻥이다.'"
   ]
  },
  {
   "cell_type": "code",
   "execution_count": 19,
   "id": "0af0425e-cce0-43ba-b447-15627f5ad2bb",
   "metadata": {},
   "outputs": [
    {
     "name": "stdout",
     "output_type": "stream",
     "text": [
      "지구가 4006년에 멸망한다는 것은 뻥이다.\n"
     ]
    }
   ],
   "source": [
    "print(an.secret)"
   ]
  },
  {
   "cell_type": "code",
   "execution_count": 20,
   "id": "720da4ac-80f0-486d-9868-1f6e14b3c6e0",
   "metadata": {},
   "outputs": [],
   "source": [
    "class Service:\n",
    "    secret = \"지구는 4006년에 멸망한다.\"\n",
    "    def sum(self,a,b):\n",
    "        result = a+b\n",
    "        print(\"%s + %s = %s이다.\" % (a,b,result))"
   ]
  },
  {
   "cell_type": "code",
   "execution_count": 21,
   "id": "2b3013c3-4990-4ffd-843b-f92df589acad",
   "metadata": {},
   "outputs": [],
   "source": [
    "an =Service()"
   ]
  },
  {
   "cell_type": "code",
   "execution_count": 22,
   "id": "a5c86d5d-8e07-4fee-8505-50bf1ee0dcc9",
   "metadata": {},
   "outputs": [
    {
     "name": "stdout",
     "output_type": "stream",
     "text": [
      "1 + 1 = 2이다.\n"
     ]
    }
   ],
   "source": [
    "an.sum(1,1)"
   ]
  },
  {
   "cell_type": "code",
   "execution_count": 23,
   "id": "cae8e45d-2b2b-46cd-9555-fbca7c537f56",
   "metadata": {},
   "outputs": [],
   "source": [
    "#Service 클래스 업그레이드"
   ]
  },
  {
   "cell_type": "code",
   "execution_count": 27,
   "id": "0bfd7a32-59da-480a-a36f-866de4e83b79",
   "metadata": {},
   "outputs": [],
   "source": [
    "class Service:\n",
    "    secret = \"지구는 4006년에 멸망한다.\"\n",
    "    def setname(self, name):\n",
    "        self.name = name\n",
    "    def sum(self, a, b):\n",
    "        result = a+b\n",
    "        print(\"%s님, %s + %s = %s 입니다. \" % (self.name, a, b, result))"
   ]
  },
  {
   "cell_type": "code",
   "execution_count": 28,
   "id": "4f8a8548-dc1f-4859-9c7f-8b4d5e24d990",
   "metadata": {},
   "outputs": [],
   "source": [
    "an=Service()"
   ]
  },
  {
   "cell_type": "code",
   "execution_count": 29,
   "id": "2a5da172-cf32-4632-935f-9868ea7e35bd",
   "metadata": {},
   "outputs": [],
   "source": [
    "an.setname(\"박달도사\")"
   ]
  },
  {
   "cell_type": "code",
   "execution_count": 30,
   "id": "b62ff1d5-c928-4e7d-80a4-e1258102e9a6",
   "metadata": {},
   "outputs": [
    {
     "name": "stdout",
     "output_type": "stream",
     "text": [
      "박달도사님, 1 + 1 = 2 입니다. \n"
     ]
    }
   ],
   "source": [
    "an.sum(1,1)"
   ]
  },
  {
   "cell_type": "code",
   "execution_count": 32,
   "id": "0b3bd2dc-ccc3-459b-82e2-a8516aa7ed47",
   "metadata": {},
   "outputs": [],
   "source": [
    "kim = Service()\n",
    "park = Service()\n",
    "kim.name = \"김정보\"\n",
    "park.name = \"박융합\""
   ]
  },
  {
   "cell_type": "code",
   "execution_count": 33,
   "id": "80b5fc06-8ed1-4c89-baac-8007bfa3f7c7",
   "metadata": {},
   "outputs": [
    {
     "name": "stdout",
     "output_type": "stream",
     "text": [
      "김정보\n"
     ]
    }
   ],
   "source": [
    "print(kim.name)"
   ]
  },
  {
   "cell_type": "code",
   "execution_count": 34,
   "id": "c4cf83ee-d2b4-4fc3-b693-d0db82542d7b",
   "metadata": {},
   "outputs": [
    {
     "name": "stdout",
     "output_type": "stream",
     "text": [
      "박융합\n"
     ]
    }
   ],
   "source": [
    "print(park.name)"
   ]
  },
  {
   "cell_type": "code",
   "execution_count": 35,
   "id": "df07cd16-9d5b-446f-ac51-17aa94ea00a7",
   "metadata": {},
   "outputs": [],
   "source": [
    "kim.secret = \"비밀은 없다.\""
   ]
  },
  {
   "cell_type": "code",
   "execution_count": 36,
   "id": "e66187ab-576a-450a-8a18-d3b0ebd22038",
   "metadata": {},
   "outputs": [
    {
     "name": "stdout",
     "output_type": "stream",
     "text": [
      "지구는 4006년에 멸망한다.\n"
     ]
    }
   ],
   "source": [
    "print(park.secret)"
   ]
  },
  {
   "cell_type": "code",
   "execution_count": 37,
   "id": "e02ea050-d54b-4b72-97ca-108fd3bdb5ec",
   "metadata": {},
   "outputs": [
    {
     "name": "stdout",
     "output_type": "stream",
     "text": [
      "비밀은 없다.\n"
     ]
    }
   ],
   "source": [
    "print(kim.secret)"
   ]
  },
  {
   "cell_type": "code",
   "execution_count": 38,
   "id": "5b3be41d-410f-4578-a96b-68c94c5d1cf0",
   "metadata": {},
   "outputs": [
    {
     "data": {
      "text/plain": [
       "'지구는 4006년에 멸망한다.'"
      ]
     },
     "execution_count": 38,
     "metadata": {},
     "output_type": "execute_result"
    }
   ],
   "source": [
    "Service.secret"
   ]
  },
  {
   "cell_type": "code",
   "execution_count": 39,
   "id": "9c398535-2f04-4b1a-b05f-9c4fab793941",
   "metadata": {},
   "outputs": [],
   "source": [
    "#지금까지로는 다음과 같은 문제 발생"
   ]
  },
  {
   "cell_type": "code",
   "execution_count": 40,
   "id": "eb4791ae-5224-411c-8f60-cea5fe028cf9",
   "metadata": {},
   "outputs": [],
   "source": [
    "lee=Service()"
   ]
  },
  {
   "cell_type": "code",
   "execution_count": 43,
   "id": "52e6476b-d415-4f14-b7ac-9190cc58ed74",
   "metadata": {},
   "outputs": [
    {
     "ename": "AttributeError",
     "evalue": "'Service' object has no attribute 'name'",
     "output_type": "error",
     "traceback": [
      "\u001b[1;31m---------------------------------------------------------------------------\u001b[0m",
      "\u001b[1;31mAttributeError\u001b[0m                            Traceback (most recent call last)",
      "Cell \u001b[1;32mIn[43], line 1\u001b[0m\n\u001b[1;32m----> 1\u001b[0m \u001b[43mlee\u001b[49m\u001b[38;5;241;43m.\u001b[39;49m\u001b[43msum\u001b[49m\u001b[43m(\u001b[49m\u001b[38;5;241;43m1\u001b[39;49m\u001b[43m,\u001b[49m\u001b[38;5;241;43m1\u001b[39;49m\u001b[43m)\u001b[49m\n",
      "Cell \u001b[1;32mIn[27], line 7\u001b[0m, in \u001b[0;36mService.sum\u001b[1;34m(self, a, b)\u001b[0m\n\u001b[0;32m      5\u001b[0m \u001b[38;5;28;01mdef\u001b[39;00m \u001b[38;5;21msum\u001b[39m(\u001b[38;5;28mself\u001b[39m, a, b):\n\u001b[0;32m      6\u001b[0m     result \u001b[38;5;241m=\u001b[39m a\u001b[38;5;241m+\u001b[39mb\n\u001b[1;32m----> 7\u001b[0m     \u001b[38;5;28mprint\u001b[39m(\u001b[38;5;124m\"\u001b[39m\u001b[38;5;132;01m%s\u001b[39;00m\u001b[38;5;124m님, \u001b[39m\u001b[38;5;132;01m%s\u001b[39;00m\u001b[38;5;124m + \u001b[39m\u001b[38;5;132;01m%s\u001b[39;00m\u001b[38;5;124m = \u001b[39m\u001b[38;5;132;01m%s\u001b[39;00m\u001b[38;5;124m 입니다. \u001b[39m\u001b[38;5;124m\"\u001b[39m \u001b[38;5;241m%\u001b[39m (\u001b[38;5;28;43mself\u001b[39;49m\u001b[38;5;241;43m.\u001b[39;49m\u001b[43mname\u001b[49m, a, b, result))\n",
      "\u001b[1;31mAttributeError\u001b[0m: 'Service' object has no attribute 'name'"
     ]
    }
   ],
   "source": [
    "lee.sum(1,1)"
   ]
  },
  {
   "cell_type": "code",
   "execution_count": 44,
   "id": "fa3d8e36-0eb3-48fa-be04-da8fecc7fc7b",
   "metadata": {},
   "outputs": [],
   "source": [
    "#사칙연상 클래스 "
   ]
  },
  {
   "cell_type": "code",
   "execution_count": 45,
   "id": "425b06c8-b338-47f3-9720-1c6f39b0a15c",
   "metadata": {},
   "outputs": [],
   "source": [
    "class FourCal:\n",
    "    pass"
   ]
  },
  {
   "cell_type": "code",
   "execution_count": 47,
   "id": "6605d96b-dad8-4db5-a274-51088f4044d7",
   "metadata": {},
   "outputs": [],
   "source": [
    "a = FourCal()"
   ]
  },
  {
   "cell_type": "code",
   "execution_count": 48,
   "id": "1619a951-441c-46b2-97b9-9cf5a233d37a",
   "metadata": {},
   "outputs": [
    {
     "data": {
      "text/plain": [
       "__main__.FourCal"
      ]
     },
     "execution_count": 48,
     "metadata": {},
     "output_type": "execute_result"
    }
   ],
   "source": [
    "type(a)"
   ]
  },
  {
   "cell_type": "code",
   "execution_count": 49,
   "id": "05deeb3c-e800-42b7-a73b-51678f27d44d",
   "metadata": {},
   "outputs": [],
   "source": [
    "class FourCal:\n",
    "    def setdata(self, first, second):\n",
    "        self.first=first\n",
    "        self.second=second"
   ]
  },
  {
   "cell_type": "code",
   "execution_count": 50,
   "id": "bb6ea11c-90c7-4e4f-b2ee-073808ebd783",
   "metadata": {},
   "outputs": [],
   "source": [
    "a=FourCal()"
   ]
  },
  {
   "cell_type": "code",
   "execution_count": 51,
   "id": "890d383f-0477-4a36-a591-eed7e9c0082a",
   "metadata": {},
   "outputs": [],
   "source": [
    "a.setdata(4,2)"
   ]
  },
  {
   "cell_type": "code",
   "execution_count": 52,
   "id": "83256ca5-0385-46d6-8f83-14793c1c4fd2",
   "metadata": {},
   "outputs": [
    {
     "name": "stdout",
     "output_type": "stream",
     "text": [
      "4\n"
     ]
    }
   ],
   "source": [
    "print(a.first)"
   ]
  },
  {
   "cell_type": "code",
   "execution_count": 53,
   "id": "d4cdfaa4-d582-4e5a-a66e-5dba3e676919",
   "metadata": {},
   "outputs": [
    {
     "name": "stdout",
     "output_type": "stream",
     "text": [
      "2\n"
     ]
    }
   ],
   "source": [
    "print(a.second)"
   ]
  },
  {
   "cell_type": "code",
   "execution_count": 55,
   "id": "3bc21367-4dc5-4ded-a136-6e67facd3249",
   "metadata": {},
   "outputs": [],
   "source": [
    "class FourCal:\n",
    "    def setdata(self, first, second):\n",
    "        self.first=first\n",
    "        self.second=second\n",
    "    def sum(self):\n",
    "        result=self.first + self.second\n",
    "        return result"
   ]
  },
  {
   "cell_type": "code",
   "execution_count": 56,
   "id": "00b3db09-8301-4ce5-9599-ecf6c64efd1b",
   "metadata": {},
   "outputs": [],
   "source": [
    "a = FourCal()"
   ]
  },
  {
   "cell_type": "code",
   "execution_count": 57,
   "id": "f04e4a26-8802-4b85-8770-a7a2cf3e21f8",
   "metadata": {},
   "outputs": [],
   "source": [
    "a.setdata(4,2)"
   ]
  },
  {
   "cell_type": "code",
   "execution_count": 58,
   "id": "9525bc8a-909d-4004-af27-c6737dc7212a",
   "metadata": {},
   "outputs": [
    {
     "name": "stdout",
     "output_type": "stream",
     "text": [
      "6\n"
     ]
    }
   ],
   "source": [
    "print(a.sum())"
   ]
  },
  {
   "cell_type": "code",
   "execution_count": 59,
   "id": "1b3a3f8d-a4ac-4afb-b7ec-5c55dae86a03",
   "metadata": {},
   "outputs": [],
   "source": [
    "class FourCal:\n",
    "    def setdata(self, first, second):\n",
    "        self.first=first\n",
    "        self.second=second\n",
    "    def sum(self):\n",
    "        result=self.first + self.second\n",
    "        return result\n",
    "    def mul(self):\n",
    "        result=self.first * self.second\n",
    "        return result\n",
    "    def sub(self):\n",
    "        result=self.first - self.second\n",
    "        return result\n",
    "    def div(self):\n",
    "        result=self.first / self.second\n",
    "        return result"
   ]
  },
  {
   "cell_type": "code",
   "execution_count": 61,
   "id": "e74ebb09-de8e-481a-bfae-baa5e25c5ac0",
   "metadata": {},
   "outputs": [],
   "source": [
    "a=FourCal()"
   ]
  },
  {
   "cell_type": "code",
   "execution_count": 63,
   "id": "a699c9f9-7b8b-4a43-a43c-309345efcd9c",
   "metadata": {},
   "outputs": [],
   "source": [
    "b=FourCal()"
   ]
  },
  {
   "cell_type": "code",
   "execution_count": 64,
   "id": "1e7f6c62-c351-4060-907e-0d6b7f074150",
   "metadata": {},
   "outputs": [],
   "source": [
    "a.setdata(4,2)"
   ]
  },
  {
   "cell_type": "code",
   "execution_count": 65,
   "id": "6b450efd-b2ff-492b-8169-bb8c61796b25",
   "metadata": {},
   "outputs": [],
   "source": [
    "b.setdata(3,7)"
   ]
  },
  {
   "cell_type": "code",
   "execution_count": 66,
   "id": "310733d9-6998-4625-93a4-05e2b96c3fee",
   "metadata": {},
   "outputs": [
    {
     "data": {
      "text/plain": [
       "6"
      ]
     },
     "execution_count": 66,
     "metadata": {},
     "output_type": "execute_result"
    }
   ],
   "source": [
    "a.sum()"
   ]
  },
  {
   "cell_type": "code",
   "execution_count": 67,
   "id": "83b12f8f-f46b-4115-9521-87750b8cbb2c",
   "metadata": {},
   "outputs": [
    {
     "data": {
      "text/plain": [
       "8"
      ]
     },
     "execution_count": 67,
     "metadata": {},
     "output_type": "execute_result"
    }
   ],
   "source": [
    "a.mul()"
   ]
  },
  {
   "cell_type": "code",
   "execution_count": 69,
   "id": "a76ed404-0771-4b6b-81ab-6f2da5123801",
   "metadata": {},
   "outputs": [
    {
     "data": {
      "text/plain": [
       "2"
      ]
     },
     "execution_count": 69,
     "metadata": {},
     "output_type": "execute_result"
    }
   ],
   "source": [
    "a.sub()"
   ]
  },
  {
   "cell_type": "code",
   "execution_count": 70,
   "id": "ef90dcd8-3757-45dc-900e-bc6f886decf8",
   "metadata": {},
   "outputs": [
    {
     "data": {
      "text/plain": [
       "2.0"
      ]
     },
     "execution_count": 70,
     "metadata": {},
     "output_type": "execute_result"
    }
   ],
   "source": [
    "a.div()"
   ]
  },
  {
   "cell_type": "code",
   "execution_count": 72,
   "id": "2d169ea9-1683-443d-9e36-fd9a3cc2ee00",
   "metadata": {},
   "outputs": [
    {
     "data": {
      "text/plain": [
       "-4"
      ]
     },
     "execution_count": 72,
     "metadata": {},
     "output_type": "execute_result"
    }
   ],
   "source": [
    "b.sub()"
   ]
  },
  {
   "cell_type": "code",
   "execution_count": 73,
   "id": "154c1970-6277-44b3-bcbd-aa1c394a4762",
   "metadata": {},
   "outputs": [],
   "source": [
    "#간단한 주사위게임"
   ]
  },
  {
   "cell_type": "code",
   "execution_count": 75,
   "id": "f5a88993-b69f-4acd-a0e9-ef2be52c5c5e",
   "metadata": {},
   "outputs": [
    {
     "name": "stdout",
     "output_type": "stream",
     "text": [
      "Player 1 rolled[2, 3, 2]\n",
      "Player 2 rolled[3, 4, 4]\n",
      "Player 2 wins!\n"
     ]
    }
   ],
   "source": [
    "from random import randint\n",
    "\n",
    "class Player:\n",
    "    def __init__(self):\n",
    "        self.dice = []\n",
    "    def roll(self):\n",
    "        self.dice = [] #clears current dice\n",
    "        for i in range(3):\n",
    "            self.dice.append(randint(1,6))\n",
    "\n",
    "    def get_dice(self):\n",
    "        return self.dice\n",
    "\n",
    "player1 = Player()\n",
    "player2 = Player()\n",
    "\n",
    "player1.roll()\n",
    "player2.roll()\n",
    "\n",
    "print(\"Player 1 rolled\" + str(player1.get_dice()))\n",
    "print(\"Player 2 rolled\" + str(player2.get_dice()))\n",
    "\n",
    "if sum(player1.get_dice()) == sum(player2.get_dice()):\n",
    "    print(\"Draw!\")\n",
    "elif sum(player1.get_dice()) > sum(player2.get_dice()):\n",
    "    print(\"Player 1 wins!\")\n",
    "else:\n",
    "    print(\"Player 2 wins!\")\n"
   ]
  },
  {
   "cell_type": "code",
   "execution_count": null,
   "id": "d2c0d7c1-3081-41c4-b7e6-7432d4242194",
   "metadata": {},
   "outputs": [],
   "source": []
  }
 ],
 "metadata": {
  "kernelspec": {
   "display_name": "Python 3 (ipykernel)",
   "language": "python",
   "name": "python3"
  },
  "language_info": {
   "codemirror_mode": {
    "name": "ipython",
    "version": 3
   },
   "file_extension": ".py",
   "mimetype": "text/x-python",
   "name": "python",
   "nbconvert_exporter": "python",
   "pygments_lexer": "ipython3",
   "version": "3.12.2"
  }
 },
 "nbformat": 4,
 "nbformat_minor": 5
}
