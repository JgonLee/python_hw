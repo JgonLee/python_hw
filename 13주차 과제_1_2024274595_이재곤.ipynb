{
 "cells": [
  {
   "cell_type": "code",
   "execution_count": 229,
   "id": "8ea4d80d-52c3-42fc-890e-8dd581f56f50",
   "metadata": {},
   "outputs": [
    {
     "name": "stdout",
     "output_type": "stream",
     "text": [
      "menu\n"
     ]
    }
   ],
   "source": [
    "import xml.etree.ElementTree as et\n",
    "tree=et.ElementTree(file='menu.xml')\n",
    "root=tree.getroot()\n",
    "\n",
    "print(root.tag)"
   ]
  },
  {
   "cell_type": "code",
   "execution_count": 230,
   "id": "43a6f541-15e5-45ce-a309-8cbd7076fa6b",
   "metadata": {},
   "outputs": [
    {
     "data": {
      "text/plain": [
       "xml.etree.ElementTree.Element"
      ]
     },
     "execution_count": 230,
     "metadata": {},
     "output_type": "execute_result"
    }
   ],
   "source": [
    "type(root)"
   ]
  },
  {
   "cell_type": "code",
   "execution_count": 231,
   "id": "d23607f8-0a06-425d-a327-9868a99fdf00",
   "metadata": {},
   "outputs": [
    {
     "name": "stdout",
     "output_type": "stream",
     "text": [
      "tag: breakfast attributes: {'hours': '7-11'}\n",
      "\ttag: item attributes: {'price': '$6.00'}\n",
      "\ttag: item attributes: {'price': '$4.00'}\n",
      "tag: lunch attributes: {'hours': '11-3'}\n",
      "\ttag: item attributes: {'price': '$5.00'}\n",
      "tag: dinner attributes: {'hours': '3-10'}\n",
      "\ttag: item attributes: {'price': '8.00'}\n"
     ]
    }
   ],
   "source": [
    "for child in root:\n",
    "    print('tag:',child.tag, 'attributes:',child.attrib)\n",
    "    for grandchild in child:\n",
    "        print('\\ttag:',grandchild.tag, 'attributes:', grandchild.attrib)"
   ]
  },
  {
   "cell_type": "code",
   "execution_count": 233,
   "id": "59278361-d6ac-47af-917b-0ff8159a87b2",
   "metadata": {},
   "outputs": [
    {
     "data": {
      "text/plain": [
       "3"
      ]
     },
     "execution_count": 233,
     "metadata": {},
     "output_type": "execute_result"
    }
   ],
   "source": [
    "len(root)"
   ]
  },
  {
   "cell_type": "code",
   "execution_count": 235,
   "id": "df563d40-f373-4aef-9e1c-7d4d10641a91",
   "metadata": {},
   "outputs": [
    {
     "data": {
      "text/plain": [
       "2"
      ]
     },
     "execution_count": 235,
     "metadata": {},
     "output_type": "execute_result"
    }
   ],
   "source": [
    "len(root[0])"
   ]
  },
  {
   "cell_type": "code",
   "execution_count": 237,
   "id": "72fb1e0d-1519-4e83-82f9-ac940df37565",
   "metadata": {},
   "outputs": [
    {
     "data": {
      "text/plain": [
       "xml.etree.ElementTree.Element"
      ]
     },
     "execution_count": 237,
     "metadata": {},
     "output_type": "execute_result"
    }
   ],
   "source": [
    "type(root[0])"
   ]
  },
  {
   "cell_type": "code",
   "execution_count": 238,
   "id": "52523ee4-4bad-40a5-a36c-d98cc8e3a904",
   "metadata": {},
   "outputs": [
    {
     "name": "stdout",
     "output_type": "stream",
     "text": [
      "<Element 'breakfast' at 0x000002B27FE67150>\n"
     ]
    }
   ],
   "source": [
    "print(root[0])"
   ]
  },
  {
   "cell_type": "code",
   "execution_count": 239,
   "id": "7d085b98-1da7-480d-856d-b9588ff076bf",
   "metadata": {},
   "outputs": [
    {
     "name": "stdout",
     "output_type": "stream",
     "text": [
      "7-11\n"
     ]
    }
   ],
   "source": [
    "print(root[0].get(\"hours\"))"
   ]
  },
  {
   "cell_type": "code",
   "execution_count": 240,
   "id": "54d97f32-d3d1-48f3-a2cb-608c2103eff4",
   "metadata": {},
   "outputs": [
    {
     "name": "stdout",
     "output_type": "stream",
     "text": [
      "['hours']\n"
     ]
    }
   ],
   "source": [
    "print(root[0].keys())"
   ]
  },
  {
   "cell_type": "code",
   "execution_count": 241,
   "id": "effe352c-b7bb-468b-906a-ce04f7a447f5",
   "metadata": {},
   "outputs": [
    {
     "name": "stdout",
     "output_type": "stream",
     "text": [
      "[('hours', '7-11')]\n"
     ]
    }
   ],
   "source": [
    "print(root[0].items())"
   ]
  },
  {
   "cell_type": "code",
   "execution_count": 242,
   "id": "a896fe2e-0de6-4ae3-b6d0-54576e2085ca",
   "metadata": {},
   "outputs": [],
   "source": [
    "lunch=root.find(\"lunch\")"
   ]
  },
  {
   "cell_type": "code",
   "execution_count": 243,
   "id": "bfdf265e-647e-4eab-a51d-b351f8fb5dfb",
   "metadata": {},
   "outputs": [
    {
     "name": "stdout",
     "output_type": "stream",
     "text": [
      "<Element 'lunch' at 0x000002B27FE667A0>\n"
     ]
    }
   ],
   "source": [
    "print(lunch)"
   ]
  },
  {
   "cell_type": "code",
   "execution_count": 247,
   "id": "c5384f73-7efc-407b-b220-79e43247a3f0",
   "metadata": {},
   "outputs": [
    {
     "name": "stdout",
     "output_type": "stream",
     "text": [
      "11-3\n"
     ]
    }
   ],
   "source": [
    "print(lunch.get(\"hours\"))"
   ]
  },
  {
   "cell_type": "code",
   "execution_count": 248,
   "id": "577f71fd-e957-458c-b836-5856ed3cc544",
   "metadata": {},
   "outputs": [
    {
     "name": "stdout",
     "output_type": "stream",
     "text": [
      "['hours']\n"
     ]
    }
   ],
   "source": [
    "print(lunch.keys())"
   ]
  },
  {
   "cell_type": "code",
   "execution_count": 249,
   "id": "ac92221e-b619-4cb8-81b9-eb82c7919905",
   "metadata": {},
   "outputs": [
    {
     "name": "stdout",
     "output_type": "stream",
     "text": [
      "[('hours', '11-3')]\n"
     ]
    }
   ],
   "source": [
    "print(lunch.items())"
   ]
  },
  {
   "cell_type": "code",
   "execution_count": 250,
   "id": "bd350c55-4b3e-4e0b-9a96-4c2edd36fe75",
   "metadata": {},
   "outputs": [
    {
     "data": {
      "text/plain": [
       "xml.etree.ElementTree.Element"
      ]
     },
     "execution_count": 250,
     "metadata": {},
     "output_type": "execute_result"
    }
   ],
   "source": [
    "type(lunch)"
   ]
  },
  {
   "cell_type": "code",
   "execution_count": 252,
   "id": "757c3253-8aa6-4d51-917a-52bf879e0470",
   "metadata": {},
   "outputs": [
    {
     "name": "stdout",
     "output_type": "stream",
     "text": [
      "[<Element 'item' at 0x000002B27FE66840>, <Element 'item' at 0x000002B27FE667F0>]\n",
      "$6.00\n",
      "breakfast burritos\n",
      "$4.00\n",
      "pancakes\n"
     ]
    }
   ],
   "source": [
    "print(root[0].findall('item'))\n",
    "for item in root[0].findall('item'):\n",
    "    print(item.get('price'))\n",
    "    print(item.text)"
   ]
  },
  {
   "cell_type": "code",
   "execution_count": 253,
   "id": "417d65e4-bf69-4f37-88a4-0774776a48a3",
   "metadata": {},
   "outputs": [],
   "source": [
    "#파이썬 자료형을 jason 문자열로 만들기"
   ]
  },
  {
   "cell_type": "code",
   "execution_count": 254,
   "id": "e371254d-c2c3-4da3-bf27-67ab86f2c610",
   "metadata": {},
   "outputs": [],
   "source": [
    "import json"
   ]
  },
  {
   "cell_type": "code",
   "execution_count": 255,
   "id": "c54c7cbf-ff84-4055-af4c-4a6e0fbecae7",
   "metadata": {},
   "outputs": [],
   "source": [
    "j1 = {\"name\":\"홍길동\", \"birth\":\"0525\", \"age\" : 10}"
   ]
  },
  {
   "cell_type": "code",
   "execution_count": 256,
   "id": "5f58bc46-53af-4031-b38f-d097de7efd75",
   "metadata": {},
   "outputs": [
    {
     "data": {
      "text/plain": [
       "{'name': '홍길동', 'birth': '0525', 'age': 10}"
      ]
     },
     "execution_count": 256,
     "metadata": {},
     "output_type": "execute_result"
    }
   ],
   "source": [
    "j1"
   ]
  },
  {
   "cell_type": "code",
   "execution_count": 258,
   "id": "c3fed269-a63b-438b-baf8-7d5b9a9ee4b1",
   "metadata": {},
   "outputs": [
    {
     "data": {
      "text/plain": [
       "'{\"name\": \"\\\\ud64d\\\\uae38\\\\ub3d9\", \"birth\": \"0525\", \"age\": 10}'"
      ]
     },
     "execution_count": 258,
     "metadata": {},
     "output_type": "execute_result"
    }
   ],
   "source": [
    "json.dumps(j1)"
   ]
  },
  {
   "cell_type": "code",
   "execution_count": 259,
   "id": "b9320a24-ab48-4b1d-9f42-1343c1caf70f",
   "metadata": {},
   "outputs": [
    {
     "name": "stdout",
     "output_type": "stream",
     "text": [
      "{\n",
      "  \"name\": \"\\ud64d\\uae38\\ub3d9\",\n",
      "  \"birth\": \"0525\",\n",
      "  \"age\": 10\n",
      "}\n"
     ]
    }
   ],
   "source": [
    "print(json.dumps(j1,indent=2))"
   ]
  },
  {
   "cell_type": "code",
   "execution_count": 260,
   "id": "1013aab7-d18e-40ed-b86f-3bbf6d1db4c2",
   "metadata": {},
   "outputs": [
    {
     "data": {
      "text/plain": [
       "'[1, 2, 3]'"
      ]
     },
     "execution_count": 260,
     "metadata": {},
     "output_type": "execute_result"
    }
   ],
   "source": [
    "json.dumps([1,2,3])"
   ]
  },
  {
   "cell_type": "code",
   "execution_count": 261,
   "id": "24de746d-3bc6-4153-955a-49b0694a2857",
   "metadata": {},
   "outputs": [
    {
     "data": {
      "text/plain": [
       "'[4, 5, 6]'"
      ]
     },
     "execution_count": 261,
     "metadata": {},
     "output_type": "execute_result"
    }
   ],
   "source": [
    "json.dumps((4,5,6))"
   ]
  },
  {
   "cell_type": "code",
   "execution_count": 262,
   "id": "78d37dfc-528f-42ff-93f5-a706f9424c84",
   "metadata": {},
   "outputs": [],
   "source": [
    "j1 = {\"name\":\"홍길동\", \"birth\":\"0525\", \"age\" : 30}"
   ]
  },
  {
   "cell_type": "code",
   "execution_count": 263,
   "id": "3ea4fff7-e9fe-43f8-bcda-48d087f8dfab",
   "metadata": {},
   "outputs": [],
   "source": [
    "d1 = json.dumps(j1)"
   ]
  },
  {
   "cell_type": "code",
   "execution_count": 264,
   "id": "2ccc58b3-aae1-418f-9580-320e5a2fc246",
   "metadata": {},
   "outputs": [
    {
     "data": {
      "text/plain": [
       "{'name': '홍길동', 'birth': '0525', 'age': 30}"
      ]
     },
     "execution_count": 264,
     "metadata": {},
     "output_type": "execute_result"
    }
   ],
   "source": [
    "json.loads(d1)"
   ]
  },
  {
   "cell_type": "code",
   "execution_count": 269,
   "id": "70bf53b8-0190-4164-840a-03879f3d53e1",
   "metadata": {},
   "outputs": [],
   "source": [
    "data = {\n",
    "    \"name\": \"홍길동\",\n",
    "    \"birth\": \"0525\",\n",
    "    \"age\": 30\n",
    "}\n",
    "\n",
    "# 데이터를 myinfo.json 파일에 저장\n",
    "with open('myinfo.json', 'w', encoding='utf-8') as json_file:\n",
    "    json.dump(data, json_file, ensure_ascii=False, indent=4)"
   ]
  },
  {
   "cell_type": "code",
   "execution_count": 272,
   "id": "12658f64-7196-4610-9741-74724d276134",
   "metadata": {},
   "outputs": [],
   "source": [
    "import json\n",
    "\n",
    "with open('./myinfo.json', 'r', encoding='utf-8') as f:\n",
    "    data = json.load(f)"
   ]
  },
  {
   "cell_type": "code",
   "execution_count": 273,
   "id": "f9c38396-8094-4622-b298-cf500cf88c6f",
   "metadata": {},
   "outputs": [
    {
     "name": "stdout",
     "output_type": "stream",
     "text": [
      "<class 'dict'>\n"
     ]
    }
   ],
   "source": [
    "print(type(data))"
   ]
  },
  {
   "cell_type": "code",
   "execution_count": 274,
   "id": "1da86207-ac91-4434-aae4-bc1a9736b57d",
   "metadata": {},
   "outputs": [
    {
     "name": "stdout",
     "output_type": "stream",
     "text": [
      "{'name': '홍길동', 'birth': '0525', 'age': 30}\n"
     ]
    }
   ],
   "source": [
    "print(data)"
   ]
  },
  {
   "cell_type": "code",
   "execution_count": 275,
   "id": "aeecc590-3eca-4b91-acc7-4353656fa7d5",
   "metadata": {},
   "outputs": [],
   "source": [
    "#html 파일 스크래핑"
   ]
  },
  {
   "cell_type": "code",
   "execution_count": 285,
   "id": "6db91e91-5dfd-461e-9887-0d5c33872c32",
   "metadata": {},
   "outputs": [
    {
     "name": "stdout",
     "output_type": "stream",
     "text": [
      "b'<!DOCTYPE html>\\n<html>\\n<head>\\n\\t<meta charset=\"utf-8\">\\n\\t\\t<title>\\xec\\xb0\\xbe\\xec\\x9d\\x84 \\xec\\x88\\x98 \\xec\\x97\\x86\\xec\\x8a\\xb5\\xeb\\x8b\\x88\\xeb\\x8b\\xa4.</title>\\n\\t<meta name=\"viewport\" content=\"width=device-width, initial-scale=1, user-scalable=no\">\\n\\t<style type=\"text/css\">\\n\\t\\t* {\\n\\t\\t\\tline-height: 1.5;\\n\\t\\t\\tmargin: 0\\n\\t\\t}\\n\\n\\t\\thtml {\\n\\t\\t\\tcolor: #888;\\n\\t\\t\\tfont-family: sans-serif;\\n\\t\\t\\ttext-align:  center;\\n\\t\\t}\\n\\n\\t\\tbody {\\n\\t\\t\\tleft: 50%;\\n\\t\\t\\tmargin: -43px 0 0 -150px;\\n\\t\\t\\tposition: absolute;\\n\\t\\t\\ttop: 50%;\\n\\t\\t\\twidth: 300px;\\n\\t\\t}\\n\\n\\t\\th1 {\\n\\t\\t\\tcolor: #555;\\n\\t\\t\\tfont-size: 2em;\\n\\t\\t\\tfont-weight: 400;\\n\\t\\t}\\n\\n\\t\\tp {\\n\\t\\t\\tline-height: 1.2;\\n\\t\\t}\\n\\n\\t\\t@media  only screen and (max-width: 400px) {\\n\\t\\t\\tbody {\\n\\t\\t\\t\\tmargin: 10px auto;\\n\\t\\t\\t\\tposition: static;\\n\\t\\t\\t\\twidth: 95%;\\n\\t\\t\\t}\\n\\n\\t\\t\\th1 {\\n\\t\\t\\t\\tfont-size: 1.5em;\\n\\t\\t\\t}\\n\\t\\t}\\n\\t</style>\\n</head>\\n<body>\\n\\t\\t<h1>\\xec\\xb0\\xbe\\xec\\x9d\\x84 \\xec\\x88\\x98 \\xec\\x97\\x86\\xec\\x8a\\xb5\\xeb\\x8b\\x88\\xeb\\x8b\\xa4.</h1>\\n\\t<p>\\xec\\xa3\\x84\\xec\\x86\\xa1\\xed\\x95\\xa9\\xeb\\x8b\\x88\\xeb\\x8b\\xa4! \\xec\\x9a\\x94\\xec\\xb2\\xad\\xed\\x95\\x98\\xec\\x8b\\xa0 \\xed\\x8e\\x98\\xec\\x9d\\xb4\\xec\\xa7\\x80\\xea\\xb0\\x80 \\xec\\x97\\x86\\xec\\x8a\\xb5\\xeb\\x8b\\x88\\xeb\\x8b\\xa4.</p>\\n</body>\\n</html>'\n"
     ]
    }
   ],
   "source": [
    "from urllib.request import urlopen\n",
    "html = urlopen(\"http://hy-mooc.hanyang.ac.kr/lms.html\")\n",
    "print(html.read())"
   ]
  },
  {
   "cell_type": "code",
   "execution_count": 278,
   "id": "8832f401-fda9-44df-9b28-4109e527a53d",
   "metadata": {},
   "outputs": [
    {
     "name": "stdout",
     "output_type": "stream",
     "text": [
      "Collecting bs4Note: you may need to restart the kernel to use updated packages.\n",
      "\n",
      "  Downloading bs4-0.0.2-py2.py3-none-any.whl.metadata (411 bytes)\n",
      "Requirement already satisfied: beautifulsoup4 in c:\\users\\dell\\appdata\\local\\programs\\python\\python312\\lib\\site-packages (from bs4) (4.12.3)\n",
      "Requirement already satisfied: soupsieve>1.2 in c:\\users\\dell\\appdata\\local\\programs\\python\\python312\\lib\\site-packages (from beautifulsoup4->bs4) (2.5)\n",
      "Downloading bs4-0.0.2-py2.py3-none-any.whl (1.2 kB)\n",
      "Installing collected packages: bs4\n",
      "Successfully installed bs4-0.0.2\n"
     ]
    }
   ],
   "source": [
    "pip install bs4"
   ]
  },
  {
   "cell_type": "code",
   "execution_count": 282,
   "id": "493ac7d2-446c-49e6-b08c-1637dc6bd497",
   "metadata": {},
   "outputs": [
    {
     "name": "stdout",
     "output_type": "stream",
     "text": [
      "<h1>찾을 수 없습니다.</h1>\n"
     ]
    }
   ],
   "source": [
    "from urllib.request import urlopen\n",
    "from bs4 import BeautifulSoup\n",
    "html = urlopen(\"http://hy-mooc.hanyang.ac.kr/lms.html\")\n",
    "bsObj = BeautifulSoup(html.read(), 'html.parser') \n",
    "print(bsObj.h1)"
   ]
  },
  {
   "cell_type": "code",
   "execution_count": 284,
   "id": "879d926a-7d6a-4e93-8d84-618cf1d96aaf",
   "metadata": {},
   "outputs": [
    {
     "name": "stdout",
     "output_type": "stream",
     "text": [
      "<html>\n",
      " <head>\n",
      "  <meta charset=\"utf-8\"/>\n",
      "  <title>\n",
      "   찾을 수 없습니다.\n",
      "  </title>\n",
      "  <meta content=\"width=device-width, initial-scale=1, user-scalable=no\" name=\"viewport\"/>\n",
      "  <style type=\"text/css\">\n",
      "   * {\n",
      "\t\t\tline-height: 1.5;\n",
      "\t\t\tmargin: 0\n",
      "\t\t}\n",
      "\n",
      "\t\thtml {\n",
      "\t\t\tcolor: #888;\n",
      "\t\t\tfont-family: sans-serif;\n",
      "\t\t\ttext-align:  center;\n",
      "\t\t}\n",
      "\n",
      "\t\tbody {\n",
      "\t\t\tleft: 50%;\n",
      "\t\t\tmargin: -43px 0 0 -150px;\n",
      "\t\t\tposition: absolute;\n",
      "\t\t\ttop: 50%;\n",
      "\t\t\twidth: 300px;\n",
      "\t\t}\n",
      "\n",
      "\t\th1 {\n",
      "\t\t\tcolor: #555;\n",
      "\t\t\tfont-size: 2em;\n",
      "\t\t\tfont-weight: 400;\n",
      "\t\t}\n",
      "\n",
      "\t\tp {\n",
      "\t\t\tline-height: 1.2;\n",
      "\t\t}\n",
      "\n",
      "\t\t@media  only screen and (max-width: 400px) {\n",
      "\t\t\tbody {\n",
      "\t\t\t\tmargin: 10px auto;\n",
      "\t\t\t\tposition: static;\n",
      "\t\t\t\twidth: 95%;\n",
      "\t\t\t}\n",
      "\n",
      "\t\t\th1 {\n",
      "\t\t\t\tfont-size: 1.5em;\n",
      "\t\t\t}\n",
      "\t\t}\n",
      "  </style>\n",
      " </head>\n",
      " <body>\n",
      "  <h1>\n",
      "   찾을 수 없습니다.\n",
      "  </h1>\n",
      "  <p>\n",
      "   죄송합니다! 요청하신 페이지가 없습니다.\n",
      "  </p>\n",
      " </body>\n",
      "</html>\n",
      "\n"
     ]
    }
   ],
   "source": [
    "print(bsObj.html.prettify())"
   ]
  },
  {
   "cell_type": "code",
   "execution_count": null,
   "id": "38af5e2a-632e-456e-a511-8430708f94f8",
   "metadata": {},
   "outputs": [],
   "source": []
  }
 ],
 "metadata": {
  "kernelspec": {
   "display_name": "Python 3 (ipykernel)",
   "language": "python",
   "name": "python3"
  },
  "language_info": {
   "codemirror_mode": {
    "name": "ipython",
    "version": 3
   },
   "file_extension": ".py",
   "mimetype": "text/x-python",
   "name": "python",
   "nbconvert_exporter": "python",
   "pygments_lexer": "ipython3",
   "version": "3.12.2"
  }
 },
 "nbformat": 4,
 "nbformat_minor": 5
}
