{
 "cells": [
  {
   "cell_type": "code",
   "execution_count": 1,
   "id": "21e0c81a-91cf-4541-a8f4-c06b6ad68c2e",
   "metadata": {},
   "outputs": [
    {
     "name": "stdout",
     "output_type": "stream",
     "text": [
      "Collecting numpy\n",
      "  Downloading numpy-1.26.4-cp312-cp312-win_amd64.whl.metadata (61 kB)\n",
      "     ---------------------------------------- 0.0/61.0 kB ? eta -:--:--\n",
      "     ------ --------------------------------- 10.2/61.0 kB ? eta -:--:--\n",
      "     ------ --------------------------------- 10.2/61.0 kB ? eta -:--:--\n",
      "     ------------ ------------------------- 20.5/61.0 kB 108.9 kB/s eta 0:00:01\n",
      "     ------------------- ------------------ 30.7/61.0 kB 145.2 kB/s eta 0:00:01\n",
      "     ------------------------------- ------ 51.2/61.0 kB 217.9 kB/s eta 0:00:01\n",
      "     ------------------------------- ------ 51.2/61.0 kB 217.9 kB/s eta 0:00:01\n",
      "     -------------------------------------- 61.0/61.0 kB 203.2 kB/s eta 0:00:00\n",
      "Downloading numpy-1.26.4-cp312-cp312-win_amd64.whl (15.5 MB)\n",
      "   ---------------------------------------- 0.0/15.5 MB ? eta -:--:--\n",
      "   ---------------------------------------- 0.1/15.5 MB 5.5 MB/s eta 0:00:03\n",
      "    --------------------------------------- 0.2/15.5 MB 3.0 MB/s eta 0:00:06\n",
      "    --------------------------------------- 0.4/15.5 MB 3.3 MB/s eta 0:00:05\n",
      "   - -------------------------------------- 0.5/15.5 MB 3.1 MB/s eta 0:00:05\n",
      "   - -------------------------------------- 0.6/15.5 MB 2.9 MB/s eta 0:00:06\n",
      "   - -------------------------------------- 0.7/15.5 MB 2.9 MB/s eta 0:00:06\n",
      "   -- ------------------------------------- 0.9/15.5 MB 3.0 MB/s eta 0:00:05\n",
      "   -- ------------------------------------- 1.1/15.5 MB 3.1 MB/s eta 0:00:05\n",
      "   --- ------------------------------------ 1.2/15.5 MB 3.1 MB/s eta 0:00:05\n",
      "   --- ------------------------------------ 1.3/15.5 MB 3.0 MB/s eta 0:00:05\n",
      "   --- ------------------------------------ 1.5/15.5 MB 3.0 MB/s eta 0:00:05\n",
      "   ---- ----------------------------------- 1.6/15.5 MB 3.2 MB/s eta 0:00:05\n",
      "   ---- ----------------------------------- 1.8/15.5 MB 3.2 MB/s eta 0:00:05\n",
      "   ---- ----------------------------------- 1.9/15.5 MB 3.1 MB/s eta 0:00:05\n",
      "   ----- ---------------------------------- 2.1/15.5 MB 3.2 MB/s eta 0:00:05\n",
      "   ----- ---------------------------------- 2.2/15.5 MB 3.1 MB/s eta 0:00:05\n",
      "   ------ --------------------------------- 2.4/15.5 MB 3.2 MB/s eta 0:00:05\n",
      "   ------ --------------------------------- 2.5/15.5 MB 3.2 MB/s eta 0:00:05\n",
      "   ------ --------------------------------- 2.7/15.5 MB 3.1 MB/s eta 0:00:05\n",
      "   ------- -------------------------------- 2.8/15.5 MB 3.2 MB/s eta 0:00:04\n",
      "   ------- -------------------------------- 2.9/15.5 MB 3.2 MB/s eta 0:00:04\n",
      "   ------- -------------------------------- 3.1/15.5 MB 3.2 MB/s eta 0:00:04\n",
      "   -------- ------------------------------- 3.2/15.5 MB 3.2 MB/s eta 0:00:04\n",
      "   -------- ------------------------------- 3.4/15.5 MB 3.2 MB/s eta 0:00:04\n",
      "   --------- ------------------------------ 3.5/15.5 MB 3.2 MB/s eta 0:00:04\n",
      "   --------- ------------------------------ 3.7/15.5 MB 3.2 MB/s eta 0:00:04\n",
      "   --------- ------------------------------ 3.9/15.5 MB 3.2 MB/s eta 0:00:04\n",
      "   ---------- ----------------------------- 4.0/15.5 MB 3.2 MB/s eta 0:00:04\n",
      "   ---------- ----------------------------- 4.2/15.5 MB 3.2 MB/s eta 0:00:04\n",
      "   ----------- ---------------------------- 4.3/15.5 MB 3.2 MB/s eta 0:00:04\n",
      "   ----------- ---------------------------- 4.5/15.5 MB 3.2 MB/s eta 0:00:04\n",
      "   ----------- ---------------------------- 4.5/15.5 MB 3.2 MB/s eta 0:00:04\n",
      "   ------------ --------------------------- 4.7/15.5 MB 3.2 MB/s eta 0:00:04\n",
      "   ------------ --------------------------- 4.8/15.5 MB 3.1 MB/s eta 0:00:04\n",
      "   ------------ --------------------------- 4.9/15.5 MB 3.1 MB/s eta 0:00:04\n",
      "   ------------- -------------------------- 5.1/15.5 MB 3.1 MB/s eta 0:00:04\n",
      "   ------------- -------------------------- 5.2/15.5 MB 3.1 MB/s eta 0:00:04\n",
      "   ------------- -------------------------- 5.3/15.5 MB 3.1 MB/s eta 0:00:04\n",
      "   ------------- -------------------------- 5.4/15.5 MB 3.1 MB/s eta 0:00:04\n",
      "   -------------- ------------------------- 5.6/15.5 MB 3.1 MB/s eta 0:00:04\n",
      "   -------------- ------------------------- 5.7/15.5 MB 3.1 MB/s eta 0:00:04\n",
      "   --------------- ------------------------ 5.8/15.5 MB 3.1 MB/s eta 0:00:04\n",
      "   --------------- ------------------------ 6.0/15.5 MB 3.1 MB/s eta 0:00:04\n",
      "   --------------- ------------------------ 6.2/15.5 MB 3.1 MB/s eta 0:00:04\n",
      "   ---------------- ----------------------- 6.3/15.5 MB 3.1 MB/s eta 0:00:03\n",
      "   ---------------- ----------------------- 6.5/15.5 MB 3.1 MB/s eta 0:00:03\n",
      "   ---------------- ----------------------- 6.6/15.5 MB 3.1 MB/s eta 0:00:03\n",
      "   ----------------- ---------------------- 6.7/15.5 MB 3.1 MB/s eta 0:00:03\n",
      "   ----------------- ---------------------- 6.9/15.5 MB 3.1 MB/s eta 0:00:03\n",
      "   ------------------ --------------------- 7.0/15.5 MB 3.1 MB/s eta 0:00:03\n",
      "   ------------------ --------------------- 7.1/15.5 MB 3.1 MB/s eta 0:00:03\n",
      "   ------------------ --------------------- 7.3/15.5 MB 3.1 MB/s eta 0:00:03\n",
      "   ------------------- -------------------- 7.5/15.5 MB 3.1 MB/s eta 0:00:03\n",
      "   ------------------- -------------------- 7.6/15.5 MB 3.1 MB/s eta 0:00:03\n",
      "   ------------------- -------------------- 7.7/15.5 MB 3.1 MB/s eta 0:00:03\n",
      "   -------------------- ------------------- 7.9/15.5 MB 3.1 MB/s eta 0:00:03\n",
      "   -------------------- ------------------- 8.0/15.5 MB 3.1 MB/s eta 0:00:03\n",
      "   --------------------- ------------------ 8.2/15.5 MB 3.1 MB/s eta 0:00:03\n",
      "   --------------------- ------------------ 8.3/15.5 MB 3.1 MB/s eta 0:00:03\n",
      "   --------------------- ------------------ 8.4/15.5 MB 3.1 MB/s eta 0:00:03\n",
      "   --------------------- ------------------ 8.5/15.5 MB 3.1 MB/s eta 0:00:03\n",
      "   ---------------------- ----------------- 8.6/15.5 MB 3.1 MB/s eta 0:00:03\n",
      "   ---------------------- ----------------- 8.8/15.5 MB 3.1 MB/s eta 0:00:03\n",
      "   ---------------------- ----------------- 8.9/15.5 MB 3.1 MB/s eta 0:00:03\n",
      "   ----------------------- ---------------- 9.1/15.5 MB 3.1 MB/s eta 0:00:03\n",
      "   ----------------------- ---------------- 9.2/15.5 MB 3.1 MB/s eta 0:00:03\n",
      "   ----------------------- ---------------- 9.3/15.5 MB 3.1 MB/s eta 0:00:03\n",
      "   ------------------------ --------------- 9.4/15.5 MB 3.1 MB/s eta 0:00:02\n",
      "   ------------------------ --------------- 9.6/15.5 MB 3.1 MB/s eta 0:00:02\n",
      "   ------------------------- -------------- 9.7/15.5 MB 3.1 MB/s eta 0:00:02\n",
      "   ------------------------- -------------- 9.9/15.5 MB 3.1 MB/s eta 0:00:02\n",
      "   ------------------------- -------------- 10.0/15.5 MB 3.1 MB/s eta 0:00:02\n",
      "   -------------------------- ------------- 10.2/15.5 MB 3.1 MB/s eta 0:00:02\n",
      "   -------------------------- ------------- 10.3/15.5 MB 3.1 MB/s eta 0:00:02\n",
      "   --------------------------- ------------ 10.5/15.5 MB 3.1 MB/s eta 0:00:02\n",
      "   --------------------------- ------------ 10.6/15.5 MB 3.1 MB/s eta 0:00:02\n",
      "   --------------------------- ------------ 10.8/15.5 MB 3.1 MB/s eta 0:00:02\n",
      "   ---------------------------- ----------- 10.9/15.5 MB 3.1 MB/s eta 0:00:02\n",
      "   ---------------------------- ----------- 11.1/15.5 MB 3.1 MB/s eta 0:00:02\n",
      "   ---------------------------- ----------- 11.2/15.5 MB 3.1 MB/s eta 0:00:02\n",
      "   ----------------------------- ---------- 11.3/15.5 MB 3.1 MB/s eta 0:00:02\n",
      "   ----------------------------- ---------- 11.5/15.5 MB 3.1 MB/s eta 0:00:02\n",
      "   ------------------------------ --------- 11.7/15.5 MB 3.1 MB/s eta 0:00:02\n",
      "   ------------------------------ --------- 11.8/15.5 MB 3.1 MB/s eta 0:00:02\n",
      "   ------------------------------ --------- 11.9/15.5 MB 3.1 MB/s eta 0:00:02\n",
      "   ------------------------------- -------- 12.1/15.5 MB 3.1 MB/s eta 0:00:02\n",
      "   ------------------------------- -------- 12.3/15.5 MB 3.1 MB/s eta 0:00:02\n",
      "   ------------------------------- -------- 12.4/15.5 MB 3.1 MB/s eta 0:00:02\n",
      "   -------------------------------- ------- 12.6/15.5 MB 3.1 MB/s eta 0:00:01\n",
      "   -------------------------------- ------- 12.7/15.5 MB 3.1 MB/s eta 0:00:01\n",
      "   --------------------------------- ------ 12.9/15.5 MB 3.1 MB/s eta 0:00:01\n",
      "   --------------------------------- ------ 13.0/15.5 MB 3.1 MB/s eta 0:00:01\n",
      "   ---------------------------------- ----- 13.2/15.5 MB 3.1 MB/s eta 0:00:01\n",
      "   ---------------------------------- ----- 13.4/15.5 MB 3.1 MB/s eta 0:00:01\n",
      "   ---------------------------------- ----- 13.5/15.5 MB 3.1 MB/s eta 0:00:01\n",
      "   ----------------------------------- ---- 13.7/15.5 MB 3.1 MB/s eta 0:00:01\n",
      "   ----------------------------------- ---- 13.9/15.5 MB 3.1 MB/s eta 0:00:01\n",
      "   ------------------------------------ --- 14.0/15.5 MB 3.1 MB/s eta 0:00:01\n",
      "   ------------------------------------ --- 14.2/15.5 MB 3.1 MB/s eta 0:00:01\n",
      "   ------------------------------------ --- 14.3/15.5 MB 3.1 MB/s eta 0:00:01\n",
      "   ------------------------------------- -- 14.5/15.5 MB 3.1 MB/s eta 0:00:01\n",
      "   ------------------------------------- -- 14.6/15.5 MB 3.1 MB/s eta 0:00:01\n",
      "   ------------------------------------- -- 14.7/15.5 MB 3.1 MB/s eta 0:00:01\n",
      "   -------------------------------------- - 14.8/15.5 MB 3.1 MB/s eta 0:00:01\n",
      "   -------------------------------------- - 15.0/15.5 MB 3.1 MB/s eta 0:00:01\n",
      "   -------------------------------------- - 15.1/15.5 MB 3.1 MB/s eta 0:00:01\n",
      "   ---------------------------------------  15.2/15.5 MB 3.1 MB/s eta 0:00:01\n",
      "   ---------------------------------------  15.3/15.5 MB 3.1 MB/s eta 0:00:01\n",
      "   ---------------------------------------  15.5/15.5 MB 3.2 MB/s eta 0:00:01\n",
      "   ---------------------------------------  15.5/15.5 MB 3.1 MB/s eta 0:00:01\n",
      "   ---------------------------------------  15.5/15.5 MB 3.1 MB/s eta 0:00:01\n",
      "   ---------------------------------------  15.5/15.5 MB 3.1 MB/s eta 0:00:01\n",
      "   ---------------------------------------  15.5/15.5 MB 3.1 MB/s eta 0:00:01\n",
      "   ---------------------------------------  15.5/15.5 MB 3.1 MB/s eta 0:00:01\n",
      "   ---------------------------------------  15.5/15.5 MB 3.1 MB/s eta 0:00:01\n",
      "   ---------------------------------------- 15.5/15.5 MB 2.9 MB/s eta 0:00:00\n",
      "Installing collected packages: numpy\n",
      "Successfully installed numpy-1.26.4\n",
      "Note: you may need to restart the kernel to use updated packages.\n"
     ]
    }
   ],
   "source": [
    "pip install numpy"
   ]
  },
  {
   "cell_type": "code",
   "execution_count": 7,
   "id": "01b046c5-42ad-4200-bcb8-e8b43cbced33",
   "metadata": {},
   "outputs": [],
   "source": [
    "import numpy as np"
   ]
  },
  {
   "cell_type": "code",
   "execution_count": 9,
   "id": "63d289e9-9eb4-4797-806f-8159b296c218",
   "metadata": {},
   "outputs": [
    {
     "data": {
      "text/plain": [
       "(1, 6)"
      ]
     },
     "execution_count": 9,
     "metadata": {},
     "output_type": "execute_result"
    }
   ],
   "source": [
    "a=np.arange(6)\n",
    "a2=a[np.newaxis, :]\n",
    "a2.shape"
   ]
  },
  {
   "cell_type": "code",
   "execution_count": 10,
   "id": "1a3ca9fd-581f-469e-9cea-5f52eeb20c1a",
   "metadata": {},
   "outputs": [],
   "source": [
    "a = np.array([1,2,3,4,5,6])"
   ]
  },
  {
   "cell_type": "code",
   "execution_count": 12,
   "id": "76fcdf86-9d86-4bea-a152-b08e86e74ddd",
   "metadata": {},
   "outputs": [
    {
     "data": {
      "text/plain": [
       "array([1, 2, 3, 4, 5, 6])"
      ]
     },
     "execution_count": 12,
     "metadata": {},
     "output_type": "execute_result"
    }
   ],
   "source": [
    "a"
   ]
  },
  {
   "cell_type": "code",
   "execution_count": 14,
   "id": "3ea8651b-ae71-482f-a0df-4d7cdb44082d",
   "metadata": {},
   "outputs": [],
   "source": [
    "a = np.array([[1,2,3,4],[5,6,7,8,],[9,10,11,12]])"
   ]
  },
  {
   "cell_type": "code",
   "execution_count": 15,
   "id": "3ab12901-d2e1-427b-b887-97106277f35b",
   "metadata": {},
   "outputs": [
    {
     "data": {
      "text/plain": [
       "array([[ 1,  2,  3,  4],\n",
       "       [ 5,  6,  7,  8],\n",
       "       [ 9, 10, 11, 12]])"
      ]
     },
     "execution_count": 15,
     "metadata": {},
     "output_type": "execute_result"
    }
   ],
   "source": [
    "a"
   ]
  },
  {
   "cell_type": "code",
   "execution_count": 16,
   "id": "42833aea-72e9-4f8f-b570-1f9d6bf49ae3",
   "metadata": {},
   "outputs": [
    {
     "name": "stdout",
     "output_type": "stream",
     "text": [
      "[1 2 3 4]\n"
     ]
    }
   ],
   "source": [
    "print(a[0])"
   ]
  },
  {
   "cell_type": "code",
   "execution_count": 21,
   "id": "7defb51c-1dcd-4ad1-8eac-4f68dd67ae06",
   "metadata": {},
   "outputs": [],
   "source": [
    "import numpy as np"
   ]
  },
  {
   "cell_type": "code",
   "execution_count": 25,
   "id": "bc9be21a-b4c0-4d68-9612-2b0c869ad68e",
   "metadata": {},
   "outputs": [],
   "source": [
    "a=np.array([1,2,3])"
   ]
  },
  {
   "cell_type": "code",
   "execution_count": 26,
   "id": "52427a5a-c866-4563-b276-3eb5f760a5ae",
   "metadata": {},
   "outputs": [
    {
     "data": {
      "text/plain": [
       "array([1, 2, 3])"
      ]
     },
     "execution_count": 26,
     "metadata": {},
     "output_type": "execute_result"
    }
   ],
   "source": [
    "a"
   ]
  },
  {
   "cell_type": "code",
   "execution_count": 30,
   "id": "0edf960b-4c42-4d43-bc7b-0418aa9014be",
   "metadata": {},
   "outputs": [
    {
     "data": {
      "text/plain": [
       "array([0., 0.])"
      ]
     },
     "execution_count": 30,
     "metadata": {},
     "output_type": "execute_result"
    }
   ],
   "source": [
    "np.zeros(2)"
   ]
  },
  {
   "cell_type": "code",
   "execution_count": 31,
   "id": "66259494-14b7-44b4-a50f-0d9ccc85c0a1",
   "metadata": {},
   "outputs": [
    {
     "data": {
      "text/plain": [
       "array([1., 1.])"
      ]
     },
     "execution_count": 31,
     "metadata": {},
     "output_type": "execute_result"
    }
   ],
   "source": [
    "np.ones(2)"
   ]
  },
  {
   "cell_type": "code",
   "execution_count": 34,
   "id": "a8079de1-d3a5-41ac-a03f-e8d398c83a79",
   "metadata": {},
   "outputs": [
    {
     "data": {
      "text/plain": [
       "array([1., 1.])"
      ]
     },
     "execution_count": 34,
     "metadata": {},
     "output_type": "execute_result"
    }
   ],
   "source": [
    "np.empty(2)"
   ]
  },
  {
   "cell_type": "code",
   "execution_count": 35,
   "id": "40c32ecc-4757-4a01-a632-09927e897c31",
   "metadata": {},
   "outputs": [
    {
     "data": {
      "text/plain": [
       "array([2, 4, 6, 8])"
      ]
     },
     "execution_count": 35,
     "metadata": {},
     "output_type": "execute_result"
    }
   ],
   "source": [
    "np.arange(2,9,2)"
   ]
  },
  {
   "cell_type": "code",
   "execution_count": 36,
   "id": "2312a684-4ca0-430a-ab84-042dcf684604",
   "metadata": {},
   "outputs": [
    {
     "data": {
      "text/plain": [
       "array([ 0. ,  2.5,  5. ,  7.5, 10. ])"
      ]
     },
     "execution_count": 36,
     "metadata": {},
     "output_type": "execute_result"
    }
   ],
   "source": [
    "np.linspace(0,10,num=5)"
   ]
  },
  {
   "cell_type": "code",
   "execution_count": 37,
   "id": "b06d5cd6-4f5c-425d-908c-10e7b7214a5a",
   "metadata": {},
   "outputs": [],
   "source": [
    "x=np.ones(2, dtype=np.int64)"
   ]
  },
  {
   "cell_type": "code",
   "execution_count": 38,
   "id": "7906aaf7-36b0-4b26-96da-34e0d6115067",
   "metadata": {},
   "outputs": [
    {
     "data": {
      "text/plain": [
       "array([1, 1], dtype=int64)"
      ]
     },
     "execution_count": 38,
     "metadata": {},
     "output_type": "execute_result"
    }
   ],
   "source": [
    "x"
   ]
  },
  {
   "cell_type": "code",
   "execution_count": 39,
   "id": "a86eda4a-c9a2-4e4b-a868-4a5d9d3b2784",
   "metadata": {},
   "outputs": [],
   "source": [
    "arr=np.array([2,1,5,3,7,4,6,8])"
   ]
  },
  {
   "cell_type": "code",
   "execution_count": 40,
   "id": "024b5c1b-584b-4f4e-b881-5cd3b61c448c",
   "metadata": {},
   "outputs": [
    {
     "data": {
      "text/plain": [
       "array([1, 2, 3, 4, 5, 6, 7, 8])"
      ]
     },
     "execution_count": 40,
     "metadata": {},
     "output_type": "execute_result"
    }
   ],
   "source": [
    "np.sort(arr)"
   ]
  },
  {
   "cell_type": "code",
   "execution_count": 41,
   "id": "282e22b9-cb06-45dc-b8ad-0edfee4870e8",
   "metadata": {},
   "outputs": [],
   "source": [
    "a=np.array([1,2,3,4])"
   ]
  },
  {
   "cell_type": "code",
   "execution_count": 42,
   "id": "66cbbfa5-1dc2-4a3b-ade8-e60bc47803a1",
   "metadata": {},
   "outputs": [],
   "source": [
    "b=np.array([5,6,7,8])"
   ]
  },
  {
   "cell_type": "code",
   "execution_count": 45,
   "id": "d58ea3bc-929c-4782-819d-b4f70d80641b",
   "metadata": {},
   "outputs": [
    {
     "data": {
      "text/plain": [
       "array([1, 2, 3, 4, 5, 6, 7, 8])"
      ]
     },
     "execution_count": 45,
     "metadata": {},
     "output_type": "execute_result"
    }
   ],
   "source": [
    "np.concatenate((a,b))"
   ]
  },
  {
   "cell_type": "code",
   "execution_count": 59,
   "id": "129324c8-1d13-41d0-9163-2d9f12e2f794",
   "metadata": {},
   "outputs": [],
   "source": [
    "x=np.array([[1,2],[3,4]])\n",
    "y=np.array([[5,6]])"
   ]
  },
  {
   "cell_type": "code",
   "execution_count": 61,
   "id": "3cb08d32-5798-4622-9a1b-726dd737d951",
   "metadata": {},
   "outputs": [
    {
     "data": {
      "text/plain": [
       "array([[1, 2],\n",
       "       [3, 4],\n",
       "       [5, 6]])"
      ]
     },
     "execution_count": 61,
     "metadata": {},
     "output_type": "execute_result"
    }
   ],
   "source": [
    "np.concatenate((x,y),axis=0)"
   ]
  },
  {
   "cell_type": "code",
   "execution_count": 63,
   "id": "ea6517b7-5000-4ce8-8fc8-3654ecb69651",
   "metadata": {},
   "outputs": [],
   "source": [
    "array_example = np.array([[[0,1,2,3], [4,5,6,7]], [[0,1,2,3],[4,5,6,7]],[[0,1,2,3],[4,5,6,7]]])"
   ]
  },
  {
   "cell_type": "code",
   "execution_count": 64,
   "id": "515711da-ba64-45bd-8f9e-61aa45768747",
   "metadata": {},
   "outputs": [
    {
     "data": {
      "text/plain": [
       "3"
      ]
     },
     "execution_count": 64,
     "metadata": {},
     "output_type": "execute_result"
    }
   ],
   "source": [
    "array_example.ndim"
   ]
  },
  {
   "cell_type": "code",
   "execution_count": 66,
   "id": "42de5a0b-8f56-4ff8-8ff3-157805db297e",
   "metadata": {},
   "outputs": [
    {
     "data": {
      "text/plain": [
       "24"
      ]
     },
     "execution_count": 66,
     "metadata": {},
     "output_type": "execute_result"
    }
   ],
   "source": [
    "array_example.size"
   ]
  },
  {
   "cell_type": "code",
   "execution_count": 68,
   "id": "1b419896-2a5b-4020-919b-0c96cb92d9d8",
   "metadata": {},
   "outputs": [
    {
     "data": {
      "text/plain": [
       "(3, 2, 4)"
      ]
     },
     "execution_count": 68,
     "metadata": {},
     "output_type": "execute_result"
    }
   ],
   "source": [
    "array_example.shape"
   ]
  },
  {
   "cell_type": "code",
   "execution_count": 70,
   "id": "c4418852-0451-4536-98b8-1080c7f92395",
   "metadata": {},
   "outputs": [
    {
     "name": "stdout",
     "output_type": "stream",
     "text": [
      "[0 1 2 3 4 5]\n"
     ]
    }
   ],
   "source": [
    "a=np.arange(6)\n",
    "print(a)"
   ]
  },
  {
   "cell_type": "code",
   "execution_count": 71,
   "id": "271511c5-d260-4c14-ace3-476eb75ee717",
   "metadata": {},
   "outputs": [],
   "source": [
    "b= a.reshape(3,2)"
   ]
  },
  {
   "cell_type": "code",
   "execution_count": 72,
   "id": "73df56ea-ddef-428a-bced-81af01acb26c",
   "metadata": {},
   "outputs": [
    {
     "name": "stdout",
     "output_type": "stream",
     "text": [
      "[[0 1]\n",
      " [2 3]\n",
      " [4 5]]\n"
     ]
    }
   ],
   "source": [
    "print(b)"
   ]
  },
  {
   "cell_type": "code",
   "execution_count": 73,
   "id": "606ece2f-ae8a-47cf-a39e-a8fedb726a08",
   "metadata": {},
   "outputs": [
    {
     "data": {
      "text/plain": [
       "array([[0, 1, 2, 3, 4, 5]])"
      ]
     },
     "execution_count": 73,
     "metadata": {},
     "output_type": "execute_result"
    }
   ],
   "source": [
    "np.reshape(a, newshape=(1,6), order='c')"
   ]
  },
  {
   "cell_type": "code",
   "execution_count": 74,
   "id": "af92e142-7437-408e-abc5-865178037645",
   "metadata": {},
   "outputs": [],
   "source": [
    "a=np.array([1,2,3,4,5,6])"
   ]
  },
  {
   "cell_type": "code",
   "execution_count": 75,
   "id": "727ff82e-e5c3-497a-837d-ab8d32471f4c",
   "metadata": {},
   "outputs": [
    {
     "data": {
      "text/plain": [
       "(6,)"
      ]
     },
     "execution_count": 75,
     "metadata": {},
     "output_type": "execute_result"
    }
   ],
   "source": [
    "a.shape"
   ]
  },
  {
   "cell_type": "code",
   "execution_count": 76,
   "id": "16e706ac-f58b-4240-b922-4dabde9a09ea",
   "metadata": {},
   "outputs": [],
   "source": [
    "a2=a[np.newaxis, :]"
   ]
  },
  {
   "cell_type": "code",
   "execution_count": 77,
   "id": "020c1a1d-91ab-4242-a109-7e865394b278",
   "metadata": {},
   "outputs": [
    {
     "data": {
      "text/plain": [
       "(1, 6)"
      ]
     },
     "execution_count": 77,
     "metadata": {},
     "output_type": "execute_result"
    }
   ],
   "source": [
    "a2.shape"
   ]
  },
  {
   "cell_type": "code",
   "execution_count": 78,
   "id": "327282ca-2e24-4209-a808-b4e4cb3d39da",
   "metadata": {},
   "outputs": [
    {
     "data": {
      "text/plain": [
       "(1, 6)"
      ]
     },
     "execution_count": 78,
     "metadata": {},
     "output_type": "execute_result"
    }
   ],
   "source": [
    "row_vector = a[np.newaxis, :]\n",
    "row_vector.shape"
   ]
  },
  {
   "cell_type": "code",
   "execution_count": 80,
   "id": "275e4cc0-6764-46fe-8856-ff4fe5c8e290",
   "metadata": {},
   "outputs": [
    {
     "data": {
      "text/plain": [
       "(6, 1)"
      ]
     },
     "execution_count": 80,
     "metadata": {},
     "output_type": "execute_result"
    }
   ],
   "source": [
    "col_vector = a[:, np.newaxis]\n",
    "col_vector.shape"
   ]
  },
  {
   "cell_type": "code",
   "execution_count": 81,
   "id": "17cbbfed-b08a-4b12-b5de-1d237b42fd9e",
   "metadata": {},
   "outputs": [],
   "source": [
    "a=np.array([1,2,3,4,5,6])"
   ]
  },
  {
   "cell_type": "code",
   "execution_count": 82,
   "id": "2d844414-3266-4c8e-9c04-adace5847d2c",
   "metadata": {},
   "outputs": [
    {
     "data": {
      "text/plain": [
       "(6,)"
      ]
     },
     "execution_count": 82,
     "metadata": {},
     "output_type": "execute_result"
    }
   ],
   "source": [
    "a.shape"
   ]
  },
  {
   "cell_type": "code",
   "execution_count": 83,
   "id": "f2d029df-3d45-4ad5-ab9f-974691e8b590",
   "metadata": {},
   "outputs": [],
   "source": [
    "b=np.expand_dims(a,axis=1)"
   ]
  },
  {
   "cell_type": "code",
   "execution_count": 84,
   "id": "4fa297e5-b8c0-471e-b968-1404ca44e5e9",
   "metadata": {},
   "outputs": [
    {
     "data": {
      "text/plain": [
       "(6, 1)"
      ]
     },
     "execution_count": 84,
     "metadata": {},
     "output_type": "execute_result"
    }
   ],
   "source": [
    "b.shape"
   ]
  },
  {
   "cell_type": "code",
   "execution_count": 85,
   "id": "f9fa473a-f973-445a-851d-a222ace51f17",
   "metadata": {},
   "outputs": [
    {
     "data": {
      "text/plain": [
       "(1, 6)"
      ]
     },
     "execution_count": 85,
     "metadata": {},
     "output_type": "execute_result"
    }
   ],
   "source": [
    "c=np.expand_dims(a, axis=0)\n",
    "c.shape"
   ]
  },
  {
   "cell_type": "code",
   "execution_count": 87,
   "id": "a5071aa6-8898-45c5-baac-52609182e829",
   "metadata": {},
   "outputs": [],
   "source": [
    "data = np.array([1,2,3])"
   ]
  },
  {
   "cell_type": "code",
   "execution_count": 88,
   "id": "9f6b1d13-57e9-47f8-b2a3-038b996afb8a",
   "metadata": {},
   "outputs": [
    {
     "data": {
      "text/plain": [
       "array([1, 2])"
      ]
     },
     "execution_count": 88,
     "metadata": {},
     "output_type": "execute_result"
    }
   ],
   "source": [
    "data[0:2]"
   ]
  },
  {
   "cell_type": "code",
   "execution_count": 89,
   "id": "228aeab8-fe7a-4235-a0b7-7aa2d2aa4156",
   "metadata": {},
   "outputs": [
    {
     "data": {
      "text/plain": [
       "array([1, 2])"
      ]
     },
     "execution_count": 89,
     "metadata": {},
     "output_type": "execute_result"
    }
   ],
   "source": [
    "data[0:2]"
   ]
  },
  {
   "cell_type": "code",
   "execution_count": 90,
   "id": "6af4f357-6044-4aa3-b242-82932ab7e34c",
   "metadata": {},
   "outputs": [
    {
     "data": {
      "text/plain": [
       "array([2, 3])"
      ]
     },
     "execution_count": 90,
     "metadata": {},
     "output_type": "execute_result"
    }
   ],
   "source": [
    "data[1:]"
   ]
  },
  {
   "cell_type": "code",
   "execution_count": 91,
   "id": "58cbecad-993f-4eca-9239-4235d2cdc756",
   "metadata": {},
   "outputs": [
    {
     "data": {
      "text/plain": [
       "array([2, 3])"
      ]
     },
     "execution_count": 91,
     "metadata": {},
     "output_type": "execute_result"
    }
   ],
   "source": [
    "data[-2:]"
   ]
  },
  {
   "cell_type": "code",
   "execution_count": 92,
   "id": "cd138783-9b32-4e81-aa62-6bb5d521a73c",
   "metadata": {},
   "outputs": [],
   "source": [
    "a=np.array([[1,2,3,4],[5,6,7,8],[9,10,11,12]])"
   ]
  },
  {
   "cell_type": "code",
   "execution_count": 93,
   "id": "c25ce6c8-b8e7-4730-bc61-b316f4a3b6b9",
   "metadata": {},
   "outputs": [
    {
     "name": "stdout",
     "output_type": "stream",
     "text": [
      "[1 2 3 4]\n"
     ]
    }
   ],
   "source": [
    "print(a[a<5])"
   ]
  },
  {
   "cell_type": "code",
   "execution_count": 94,
   "id": "926d709b-3047-49ca-bf76-7347ea0f163f",
   "metadata": {},
   "outputs": [],
   "source": [
    "five_up = (a >= 5)"
   ]
  },
  {
   "cell_type": "code",
   "execution_count": 95,
   "id": "95b0b47b-dfca-4226-91b3-2d96c43cfa15",
   "metadata": {},
   "outputs": [
    {
     "name": "stdout",
     "output_type": "stream",
     "text": [
      "[ 5  6  7  8  9 10 11 12]\n"
     ]
    }
   ],
   "source": [
    "print(a[five_up])"
   ]
  },
  {
   "cell_type": "code",
   "execution_count": 96,
   "id": "e4ea6334-e04e-406c-9c8a-2ff553e72fcb",
   "metadata": {},
   "outputs": [],
   "source": [
    "divisible_by_2 = a[a%2==0]"
   ]
  },
  {
   "cell_type": "code",
   "execution_count": 97,
   "id": "a97041cc-02b2-4ad5-8ebc-7e333b004003",
   "metadata": {},
   "outputs": [
    {
     "name": "stdout",
     "output_type": "stream",
     "text": [
      "[ 2  4  6  8 10 12]\n"
     ]
    }
   ],
   "source": [
    "print(divisible_by_2)"
   ]
  },
  {
   "cell_type": "code",
   "execution_count": 98,
   "id": "acc8a42b-9de1-4dbc-825f-eff479f56cd9",
   "metadata": {},
   "outputs": [],
   "source": [
    "c= a[(a>2) & (a<11)]"
   ]
  },
  {
   "cell_type": "code",
   "execution_count": 99,
   "id": "826f3ce3-45dd-4513-868f-b43e8b122e4d",
   "metadata": {},
   "outputs": [
    {
     "name": "stdout",
     "output_type": "stream",
     "text": [
      "[ 3  4  5  6  7  8  9 10]\n"
     ]
    }
   ],
   "source": [
    "print(c)"
   ]
  },
  {
   "cell_type": "code",
   "execution_count": 100,
   "id": "687cde57-1f96-4802-9f5d-824a6cc3e5c3",
   "metadata": {},
   "outputs": [],
   "source": [
    "five_up = (a>5) | (a==5)"
   ]
  },
  {
   "cell_type": "code",
   "execution_count": 101,
   "id": "f5065fa9-a3f2-4ab9-b5d7-e4e1e71e48f8",
   "metadata": {},
   "outputs": [
    {
     "name": "stdout",
     "output_type": "stream",
     "text": [
      "[[False False False False]\n",
      " [ True  True  True  True]\n",
      " [ True  True  True  True]]\n"
     ]
    }
   ],
   "source": [
    "print(five_up)"
   ]
  },
  {
   "cell_type": "code",
   "execution_count": 102,
   "id": "4680a6f6-6c4b-4902-a177-58d9f6dad646",
   "metadata": {},
   "outputs": [],
   "source": [
    "a=np.array([[1,2,3,4],[5,6,7,8],[9,10,11,12]])"
   ]
  },
  {
   "cell_type": "code",
   "execution_count": 103,
   "id": "3da5e44d-c5f2-45ce-b90e-d8ee78e9d512",
   "metadata": {},
   "outputs": [],
   "source": [
    "b=np.nonzero(a<5)"
   ]
  },
  {
   "cell_type": "code",
   "execution_count": 104,
   "id": "967eba52-1ca4-43d8-ab16-509b1df511df",
   "metadata": {},
   "outputs": [
    {
     "name": "stdout",
     "output_type": "stream",
     "text": [
      "(array([0, 0, 0, 0], dtype=int64), array([0, 1, 2, 3], dtype=int64))\n"
     ]
    }
   ],
   "source": [
    "print(b)"
   ]
  },
  {
   "cell_type": "code",
   "execution_count": 105,
   "id": "2d1ff6e1-4834-4b32-8fbf-c36c4c858df0",
   "metadata": {},
   "outputs": [],
   "source": [
    "list_of_coordinates= list(zip(b[0],b[1]))"
   ]
  },
  {
   "cell_type": "code",
   "execution_count": 108,
   "id": "c724c174-383b-4d78-ac29-31fdccc0d354",
   "metadata": {},
   "outputs": [
    {
     "name": "stdout",
     "output_type": "stream",
     "text": [
      "(0, 0)\n",
      "(0, 1)\n",
      "(0, 2)\n",
      "(0, 3)\n"
     ]
    }
   ],
   "source": [
    "for coord in list_of_coordinates:\n",
    "    print(coord)"
   ]
  },
  {
   "cell_type": "code",
   "execution_count": 109,
   "id": "cb6a11d6-8b6b-4cb9-8dc8-1b1504b4cad9",
   "metadata": {},
   "outputs": [
    {
     "name": "stdout",
     "output_type": "stream",
     "text": [
      "[1 2 3 4]\n"
     ]
    }
   ],
   "source": [
    "print(a[b])"
   ]
  },
  {
   "cell_type": "code",
   "execution_count": 110,
   "id": "1035fd70-aaaf-41a3-a655-f1ef703fc0bb",
   "metadata": {},
   "outputs": [
    {
     "name": "stdout",
     "output_type": "stream",
     "text": [
      "(array([], dtype=int64), array([], dtype=int64))\n"
     ]
    }
   ],
   "source": [
    "not_there = np.nonzero(a==42)\n",
    "print(not_there)"
   ]
  },
  {
   "cell_type": "code",
   "execution_count": 111,
   "id": "2d9d8e26-1103-4f77-bc34-66a538bebcd4",
   "metadata": {},
   "outputs": [],
   "source": [
    "a=np.array([1,2,3,4,5,6,7,8,9,10])"
   ]
  },
  {
   "cell_type": "code",
   "execution_count": 112,
   "id": "64443759-c518-4d0f-9c4d-635cfe8ffe03",
   "metadata": {},
   "outputs": [],
   "source": [
    "arr1 = a[3:8]"
   ]
  },
  {
   "cell_type": "code",
   "execution_count": 113,
   "id": "d0433664-0ef4-4cfe-9abe-a6755ef8c36b",
   "metadata": {},
   "outputs": [
    {
     "data": {
      "text/plain": [
       "array([4, 5, 6, 7, 8])"
      ]
     },
     "execution_count": 113,
     "metadata": {},
     "output_type": "execute_result"
    }
   ],
   "source": [
    "arr1"
   ]
  },
  {
   "cell_type": "code",
   "execution_count": 114,
   "id": "c90d1987-bb6d-4d8f-864e-16a1fa21895c",
   "metadata": {},
   "outputs": [],
   "source": [
    "a1=np.array([[1,1],[2,2]])"
   ]
  },
  {
   "cell_type": "code",
   "execution_count": 115,
   "id": "22b2bb04-1fcb-4594-bf9f-6f0ad05baa7a",
   "metadata": {},
   "outputs": [],
   "source": [
    "a2=np.array([[3,3],[4,4]])"
   ]
  },
  {
   "cell_type": "code",
   "execution_count": 116,
   "id": "62f6a602-8691-4bb4-8531-ae3dea600421",
   "metadata": {},
   "outputs": [
    {
     "data": {
      "text/plain": [
       "array([[1, 1],\n",
       "       [2, 2],\n",
       "       [3, 3],\n",
       "       [4, 4]])"
      ]
     },
     "execution_count": 116,
     "metadata": {},
     "output_type": "execute_result"
    }
   ],
   "source": [
    "np.vstack((a1,a2))"
   ]
  },
  {
   "cell_type": "code",
   "execution_count": 117,
   "id": "3aebb97e-38e7-4e56-bc51-200d501db576",
   "metadata": {},
   "outputs": [
    {
     "data": {
      "text/plain": [
       "array([[1, 1, 3, 3],\n",
       "       [2, 2, 4, 4]])"
      ]
     },
     "execution_count": 117,
     "metadata": {},
     "output_type": "execute_result"
    }
   ],
   "source": [
    "np.hstack((a1,a2))"
   ]
  },
  {
   "cell_type": "code",
   "execution_count": 118,
   "id": "cbf81bf2-e4de-4cb6-b6bb-fac636559eb7",
   "metadata": {},
   "outputs": [],
   "source": [
    "x=np.arange(1,25).reshape(2,12)"
   ]
  },
  {
   "cell_type": "code",
   "execution_count": 119,
   "id": "c75f8583-d856-494c-8d7c-9e12ced4aef3",
   "metadata": {},
   "outputs": [
    {
     "data": {
      "text/plain": [
       "array([[ 1,  2,  3,  4,  5,  6,  7,  8,  9, 10, 11, 12],\n",
       "       [13, 14, 15, 16, 17, 18, 19, 20, 21, 22, 23, 24]])"
      ]
     },
     "execution_count": 119,
     "metadata": {},
     "output_type": "execute_result"
    }
   ],
   "source": [
    "x"
   ]
  },
  {
   "cell_type": "code",
   "execution_count": 120,
   "id": "d8e06002-69b9-46a0-a719-6f6fbebb59ab",
   "metadata": {},
   "outputs": [
    {
     "data": {
      "text/plain": [
       "[array([[ 1,  2,  3,  4],\n",
       "        [13, 14, 15, 16]]),\n",
       " array([[ 5,  6,  7,  8],\n",
       "        [17, 18, 19, 20]]),\n",
       " array([[ 9, 10, 11, 12],\n",
       "        [21, 22, 23, 24]])]"
      ]
     },
     "execution_count": 120,
     "metadata": {},
     "output_type": "execute_result"
    }
   ],
   "source": [
    "np.hsplit(x,3)"
   ]
  },
  {
   "cell_type": "code",
   "execution_count": 121,
   "id": "8a5ed2f6-90c1-459a-aabd-e32a3e3a0202",
   "metadata": {},
   "outputs": [
    {
     "data": {
      "text/plain": [
       "[array([[ 1,  2,  3],\n",
       "        [13, 14, 15]]),\n",
       " array([[ 4],\n",
       "        [16]]),\n",
       " array([[ 5,  6,  7,  8,  9, 10, 11, 12],\n",
       "        [17, 18, 19, 20, 21, 22, 23, 24]])]"
      ]
     },
     "execution_count": 121,
     "metadata": {},
     "output_type": "execute_result"
    }
   ],
   "source": [
    "np.hsplit(x,(3,4))"
   ]
  },
  {
   "cell_type": "code",
   "execution_count": 122,
   "id": "c66fc2db-354f-4d46-b104-1c0d47d933ce",
   "metadata": {},
   "outputs": [],
   "source": [
    "a=np.array([[1,2,3,4],[5,6,7,8],[9,10,11,12]])"
   ]
  },
  {
   "cell_type": "code",
   "execution_count": 123,
   "id": "52f90ce7-0a22-4253-b2b8-6e90a81caa1a",
   "metadata": {},
   "outputs": [],
   "source": [
    "b1=a[0,:]"
   ]
  },
  {
   "cell_type": "code",
   "execution_count": 124,
   "id": "c9a6f2dd-2be9-4fc9-979c-73c8683a43a8",
   "metadata": {},
   "outputs": [
    {
     "data": {
      "text/plain": [
       "array([1, 2, 3, 4])"
      ]
     },
     "execution_count": 124,
     "metadata": {},
     "output_type": "execute_result"
    }
   ],
   "source": [
    "b1"
   ]
  },
  {
   "cell_type": "code",
   "execution_count": 125,
   "id": "7b2fb2e6-e643-4b1f-adf6-30db1acf90ed",
   "metadata": {},
   "outputs": [],
   "source": [
    "b1[0] =99"
   ]
  },
  {
   "cell_type": "code",
   "execution_count": 126,
   "id": "35cebdbb-041d-4af8-808a-60252d835358",
   "metadata": {},
   "outputs": [
    {
     "data": {
      "text/plain": [
       "array([99,  2,  3,  4])"
      ]
     },
     "execution_count": 126,
     "metadata": {},
     "output_type": "execute_result"
    }
   ],
   "source": [
    "b1"
   ]
  },
  {
   "cell_type": "code",
   "execution_count": 127,
   "id": "8064a983-a835-41b4-837c-15af156b0e09",
   "metadata": {},
   "outputs": [
    {
     "data": {
      "text/plain": [
       "array([[99,  2,  3,  4],\n",
       "       [ 5,  6,  7,  8],\n",
       "       [ 9, 10, 11, 12]])"
      ]
     },
     "execution_count": 127,
     "metadata": {},
     "output_type": "execute_result"
    }
   ],
   "source": [
    "a"
   ]
  },
  {
   "cell_type": "code",
   "execution_count": 128,
   "id": "928b12fe-620c-46b6-a271-45c93a936342",
   "metadata": {},
   "outputs": [],
   "source": [
    "b2=a.copy()"
   ]
  },
  {
   "cell_type": "code",
   "execution_count": 129,
   "id": "b8346e9e-7c6a-4f3e-8fbe-a91809499ff6",
   "metadata": {},
   "outputs": [],
   "source": [
    "data = np.array([1,2])"
   ]
  },
  {
   "cell_type": "code",
   "execution_count": 130,
   "id": "21dc279a-a4e0-4053-b132-220840a60789",
   "metadata": {},
   "outputs": [],
   "source": [
    "ones = np.ones(2,dtype=int)"
   ]
  },
  {
   "cell_type": "code",
   "execution_count": 131,
   "id": "cd053123-13d6-4592-b3eb-5ade870dc031",
   "metadata": {},
   "outputs": [
    {
     "data": {
      "text/plain": [
       "array([2, 3])"
      ]
     },
     "execution_count": 131,
     "metadata": {},
     "output_type": "execute_result"
    }
   ],
   "source": [
    "data + ones"
   ]
  },
  {
   "cell_type": "code",
   "execution_count": 132,
   "id": "837d9d72-1a4d-42ad-91b0-02ec5c759ec4",
   "metadata": {},
   "outputs": [
    {
     "data": {
      "text/plain": [
       "array([0, 1])"
      ]
     },
     "execution_count": 132,
     "metadata": {},
     "output_type": "execute_result"
    }
   ],
   "source": [
    "data - ones"
   ]
  },
  {
   "cell_type": "code",
   "execution_count": 135,
   "id": "7dac1b22-af2c-45b8-b239-b9effca2fc1c",
   "metadata": {},
   "outputs": [
    {
     "data": {
      "text/plain": [
       "array([1, 4])"
      ]
     },
     "execution_count": 135,
     "metadata": {},
     "output_type": "execute_result"
    }
   ],
   "source": [
    "data * data"
   ]
  },
  {
   "cell_type": "code",
   "execution_count": 136,
   "id": "948a772c-cc50-426d-a48f-cbbe5b1d14f1",
   "metadata": {},
   "outputs": [
    {
     "data": {
      "text/plain": [
       "array([1., 1.])"
      ]
     },
     "execution_count": 136,
     "metadata": {},
     "output_type": "execute_result"
    }
   ],
   "source": [
    "data / data"
   ]
  },
  {
   "cell_type": "code",
   "execution_count": 137,
   "id": "0a3f6272-c9fd-4eef-bfc0-d83ea16ee6cf",
   "metadata": {},
   "outputs": [],
   "source": [
    "a = np.array([1,2,3,4])"
   ]
  },
  {
   "cell_type": "code",
   "execution_count": 138,
   "id": "906046ac-b9c8-488d-ae75-0ca375221349",
   "metadata": {},
   "outputs": [
    {
     "data": {
      "text/plain": [
       "10"
      ]
     },
     "execution_count": 138,
     "metadata": {},
     "output_type": "execute_result"
    }
   ],
   "source": [
    "a.sum()"
   ]
  },
  {
   "cell_type": "code",
   "execution_count": 139,
   "id": "4b5a35b7-ba9d-4791-bb60-9f2366bd3711",
   "metadata": {},
   "outputs": [],
   "source": [
    "b=np.array([[1,1],[2,2]])"
   ]
  },
  {
   "cell_type": "code",
   "execution_count": 140,
   "id": "20e105aa-c233-497f-9cb7-fa8cca16b6c5",
   "metadata": {},
   "outputs": [
    {
     "data": {
      "text/plain": [
       "array([2, 4])"
      ]
     },
     "execution_count": 140,
     "metadata": {},
     "output_type": "execute_result"
    }
   ],
   "source": [
    "b.sum(axis=1)"
   ]
  },
  {
   "cell_type": "code",
   "execution_count": 141,
   "id": "5847545c-8783-4760-8230-919b1f5e6bf9",
   "metadata": {},
   "outputs": [],
   "source": [
    "data=np.array([1.0,2.0])"
   ]
  },
  {
   "cell_type": "code",
   "execution_count": 142,
   "id": "9f5db27e-3100-4243-ba94-b2d2970bd0be",
   "metadata": {},
   "outputs": [
    {
     "data": {
      "text/plain": [
       "array([1.6, 3.2])"
      ]
     },
     "execution_count": 142,
     "metadata": {},
     "output_type": "execute_result"
    }
   ],
   "source": [
    "data*1.6"
   ]
  },
  {
   "cell_type": "code",
   "execution_count": 143,
   "id": "cc333b75-60d4-411d-8247-8962e1142d7f",
   "metadata": {},
   "outputs": [
    {
     "data": {
      "text/plain": [
       "2.0"
      ]
     },
     "execution_count": 143,
     "metadata": {},
     "output_type": "execute_result"
    }
   ],
   "source": [
    "data.max()"
   ]
  },
  {
   "cell_type": "code",
   "execution_count": 144,
   "id": "b31f379f-733d-4214-ae64-10b807df4f2e",
   "metadata": {},
   "outputs": [
    {
     "data": {
      "text/plain": [
       "1.0"
      ]
     },
     "execution_count": 144,
     "metadata": {},
     "output_type": "execute_result"
    }
   ],
   "source": [
    "data.min()"
   ]
  },
  {
   "cell_type": "code",
   "execution_count": 145,
   "id": "b62a9349-a15c-40e7-8191-795db07524b9",
   "metadata": {},
   "outputs": [
    {
     "data": {
      "text/plain": [
       "3.0"
      ]
     },
     "execution_count": 145,
     "metadata": {},
     "output_type": "execute_result"
    }
   ],
   "source": [
    "data.sum()"
   ]
  },
  {
   "cell_type": "code",
   "execution_count": 146,
   "id": "4511ae31-e87b-42d2-b646-107eb7bd534a",
   "metadata": {},
   "outputs": [],
   "source": [
    "a = np.array([[0.45053314, 0.17296777, 0.34376245, 0.5510652],\n",
    "              [0.54627315, 0.05093587, 0.40067661, 0.55645993],\n",
    "              [0.12697628, 0.82485143, 0.26590556, 0.56917101]])"
   ]
  },
  {
   "cell_type": "code",
   "execution_count": 147,
   "id": "e6aa63f5-c70a-49b5-a3e9-dd489fd5ca8e",
   "metadata": {},
   "outputs": [
    {
     "data": {
      "text/plain": [
       "4.8595784"
      ]
     },
     "execution_count": 147,
     "metadata": {},
     "output_type": "execute_result"
    }
   ],
   "source": [
    "a.sum()"
   ]
  },
  {
   "cell_type": "code",
   "execution_count": 148,
   "id": "82137bd8-7471-4ba6-a146-b2674325e464",
   "metadata": {},
   "outputs": [
    {
     "data": {
      "text/plain": [
       "array([0.12697628, 0.05093587, 0.26590556, 0.5510652 ])"
      ]
     },
     "execution_count": 148,
     "metadata": {},
     "output_type": "execute_result"
    }
   ],
   "source": [
    "a.min(axis=0)"
   ]
  },
  {
   "cell_type": "code",
   "execution_count": 149,
   "id": "71b0922c-af64-4cfa-a602-099cf4b0bddd",
   "metadata": {},
   "outputs": [],
   "source": [
    "data = np.array([[1, 2], [3, 4], [5, 6]])"
   ]
  },
  {
   "cell_type": "code",
   "execution_count": 150,
   "id": "5fd9ff8d-698b-47e5-b750-25b90118f6b8",
   "metadata": {},
   "outputs": [
    {
     "data": {
      "text/plain": [
       "array([[1, 2],\n",
       "       [3, 4],\n",
       "       [5, 6]])"
      ]
     },
     "execution_count": 150,
     "metadata": {},
     "output_type": "execute_result"
    }
   ],
   "source": [
    "data"
   ]
  },
  {
   "cell_type": "code",
   "execution_count": 151,
   "id": "de436590-f88d-4c9c-81f4-40d753f4b3be",
   "metadata": {},
   "outputs": [
    {
     "data": {
      "text/plain": [
       "2"
      ]
     },
     "execution_count": 151,
     "metadata": {},
     "output_type": "execute_result"
    }
   ],
   "source": [
    "data[0, 1]"
   ]
  },
  {
   "cell_type": "code",
   "execution_count": 152,
   "id": "1b111cb3-8043-405a-862a-e37ef10a8825",
   "metadata": {},
   "outputs": [
    {
     "data": {
      "text/plain": [
       "array([[3, 4],\n",
       "       [5, 6]])"
      ]
     },
     "execution_count": 152,
     "metadata": {},
     "output_type": "execute_result"
    }
   ],
   "source": [
    "data[1:3]"
   ]
  },
  {
   "cell_type": "code",
   "execution_count": 153,
   "id": "d57540d9-21d1-4ca2-8d4a-4cb04b7be5b5",
   "metadata": {},
   "outputs": [
    {
     "data": {
      "text/plain": [
       "array([1, 3])"
      ]
     },
     "execution_count": 153,
     "metadata": {},
     "output_type": "execute_result"
    }
   ],
   "source": [
    "data[0:2, 0]"
   ]
  },
  {
   "cell_type": "code",
   "execution_count": 154,
   "id": "9860c8ed-0ca6-4ee6-bbc2-3e6c8c675e1d",
   "metadata": {},
   "outputs": [
    {
     "data": {
      "text/plain": [
       "6"
      ]
     },
     "execution_count": 154,
     "metadata": {},
     "output_type": "execute_result"
    }
   ],
   "source": [
    "data.max()"
   ]
  },
  {
   "cell_type": "code",
   "execution_count": 155,
   "id": "d2afab00-166e-499f-97dc-abff8f493c0d",
   "metadata": {},
   "outputs": [
    {
     "data": {
      "text/plain": [
       "1"
      ]
     },
     "execution_count": 155,
     "metadata": {},
     "output_type": "execute_result"
    }
   ],
   "source": [
    "data.min()"
   ]
  },
  {
   "cell_type": "code",
   "execution_count": 156,
   "id": "339616ee-20eb-4c0b-975d-313ec5bf9732",
   "metadata": {},
   "outputs": [
    {
     "data": {
      "text/plain": [
       "21"
      ]
     },
     "execution_count": 156,
     "metadata": {},
     "output_type": "execute_result"
    }
   ],
   "source": [
    "data.sum()"
   ]
  },
  {
   "cell_type": "code",
   "execution_count": 157,
   "id": "b150f78e-3f9c-482e-abed-121ed6340a3a",
   "metadata": {},
   "outputs": [],
   "source": [
    "data = np.array([[1, 2], [5, 3], [4, 6]])"
   ]
  },
  {
   "cell_type": "code",
   "execution_count": 158,
   "id": "0b53d18e-a07d-42c6-9e96-00018a007ed1",
   "metadata": {},
   "outputs": [
    {
     "data": {
      "text/plain": [
       "array([[1, 2],\n",
       "       [5, 3],\n",
       "       [4, 6]])"
      ]
     },
     "execution_count": 158,
     "metadata": {},
     "output_type": "execute_result"
    }
   ],
   "source": [
    "data"
   ]
  },
  {
   "cell_type": "code",
   "execution_count": 159,
   "id": "b8e54a3b-340e-4126-a728-13bbe09f7ead",
   "metadata": {},
   "outputs": [
    {
     "data": {
      "text/plain": [
       "array([5, 6])"
      ]
     },
     "execution_count": 159,
     "metadata": {},
     "output_type": "execute_result"
    }
   ],
   "source": [
    "data.max(axis=0)"
   ]
  },
  {
   "cell_type": "code",
   "execution_count": 160,
   "id": "e1dc1f90-42e4-4c96-9da4-24febd656699",
   "metadata": {},
   "outputs": [
    {
     "data": {
      "text/plain": [
       "array([2, 5, 6])"
      ]
     },
     "execution_count": 160,
     "metadata": {},
     "output_type": "execute_result"
    }
   ],
   "source": [
    "data.max(axis=1)"
   ]
  },
  {
   "cell_type": "code",
   "execution_count": 161,
   "id": "d158b0a6-9f0f-4c94-8445-3646d949ba9a",
   "metadata": {},
   "outputs": [],
   "source": [
    "data = np.array([[1,2],[3,4]])"
   ]
  },
  {
   "cell_type": "code",
   "execution_count": 162,
   "id": "5e0b1666-1078-42c7-b4bd-a98949f0f779",
   "metadata": {},
   "outputs": [],
   "source": [
    "ones = np.array([[1,1],[1,1]])"
   ]
  },
  {
   "cell_type": "code",
   "execution_count": 164,
   "id": "cdc2ef18-56a7-42ee-82de-55e0362f7b70",
   "metadata": {},
   "outputs": [
    {
     "data": {
      "text/plain": [
       "array([[2, 3],\n",
       "       [4, 5]])"
      ]
     },
     "execution_count": 164,
     "metadata": {},
     "output_type": "execute_result"
    }
   ],
   "source": [
    "data+ones"
   ]
  },
  {
   "cell_type": "code",
   "execution_count": 165,
   "id": "885548ed-ad2e-45e2-a8c0-a2fd204aada9",
   "metadata": {},
   "outputs": [],
   "source": [
    "data = np.array([[1, 2], [3, 4], [5, 6]])"
   ]
  },
  {
   "cell_type": "code",
   "execution_count": 166,
   "id": "e0492e44-c0c6-4693-aaa7-260da67de562",
   "metadata": {},
   "outputs": [],
   "source": [
    "ones_row = np.array([[1, 1]])"
   ]
  },
  {
   "cell_type": "code",
   "execution_count": 167,
   "id": "fc231601-42c7-410f-b0c1-b38c84ebca78",
   "metadata": {},
   "outputs": [
    {
     "data": {
      "text/plain": [
       "array([[2, 3],\n",
       "       [4, 5],\n",
       "       [6, 7]])"
      ]
     },
     "execution_count": 167,
     "metadata": {},
     "output_type": "execute_result"
    }
   ],
   "source": [
    "data + ones_row"
   ]
  },
  {
   "cell_type": "code",
   "execution_count": 168,
   "id": "adf3018d-9ce6-4c19-9449-57a242b95b85",
   "metadata": {},
   "outputs": [
    {
     "data": {
      "text/plain": [
       "array([[[1., 1.],\n",
       "        [1., 1.],\n",
       "        [1., 1.]],\n",
       "\n",
       "       [[1., 1.],\n",
       "        [1., 1.],\n",
       "        [1., 1.]],\n",
       "\n",
       "       [[1., 1.],\n",
       "        [1., 1.],\n",
       "        [1., 1.]],\n",
       "\n",
       "       [[1., 1.],\n",
       "        [1., 1.],\n",
       "        [1., 1.]]])"
      ]
     },
     "execution_count": 168,
     "metadata": {},
     "output_type": "execute_result"
    }
   ],
   "source": [
    "np.ones((4,3,2))"
   ]
  },
  {
   "cell_type": "code",
   "execution_count": 169,
   "id": "7af288f0-3926-428c-9136-998335ec7424",
   "metadata": {},
   "outputs": [
    {
     "data": {
      "text/plain": [
       "array([1., 1., 1.])"
      ]
     },
     "execution_count": 169,
     "metadata": {},
     "output_type": "execute_result"
    }
   ],
   "source": [
    "np.ones(3)"
   ]
  },
  {
   "cell_type": "code",
   "execution_count": 170,
   "id": "7a1058ab-0507-4a43-9714-21cc49c8aece",
   "metadata": {},
   "outputs": [
    {
     "data": {
      "text/plain": [
       "array([0., 0., 0.])"
      ]
     },
     "execution_count": 170,
     "metadata": {},
     "output_type": "execute_result"
    }
   ],
   "source": [
    "np.zeros(3)"
   ]
  },
  {
   "cell_type": "code",
   "execution_count": 172,
   "id": "cdb9c9bc-def2-41fa-9c97-9456afcfe9e1",
   "metadata": {},
   "outputs": [],
   "source": [
    "rng = np.random.default_rng()  # the simplest way to generate random numbers"
   ]
  },
  {
   "cell_type": "code",
   "execution_count": 173,
   "id": "4a2bf020-09bb-45f1-8325-b6be75a255bb",
   "metadata": {},
   "outputs": [
    {
     "data": {
      "text/plain": [
       "array([0.88259132, 0.64357999, 0.57476561])"
      ]
     },
     "execution_count": 173,
     "metadata": {},
     "output_type": "execute_result"
    }
   ],
   "source": [
    "rng.random(3) "
   ]
  },
  {
   "cell_type": "code",
   "execution_count": 174,
   "id": "e098a196-6ef8-4c28-a0e6-9285c9df26f2",
   "metadata": {},
   "outputs": [
    {
     "data": {
      "text/plain": [
       "array([[1., 1.],\n",
       "       [1., 1.],\n",
       "       [1., 1.]])"
      ]
     },
     "execution_count": 174,
     "metadata": {},
     "output_type": "execute_result"
    }
   ],
   "source": [
    "np.ones((3,2))"
   ]
  },
  {
   "cell_type": "raw",
   "id": "a3a049b2-6758-4124-bc5b-223f549755cf",
   "metadata": {},
   "source": [
    "np.zeros((3,2))"
   ]
  },
  {
   "cell_type": "code",
   "execution_count": 178,
   "id": "9bbc1b62-ed6c-499c-a980-bb76db82eb62",
   "metadata": {},
   "outputs": [
    {
     "data": {
      "text/plain": [
       "array([[0.53149859, 0.48026337],\n",
       "       [0.63621633, 0.82975526],\n",
       "       [0.34269616, 0.78144354]])"
      ]
     },
     "execution_count": 178,
     "metadata": {},
     "output_type": "execute_result"
    }
   ],
   "source": [
    "rng.random((3,2))"
   ]
  },
  {
   "cell_type": "code",
   "execution_count": 179,
   "id": "00f385ea-c4c2-446b-b181-1402e767f515",
   "metadata": {},
   "outputs": [
    {
     "data": {
      "text/plain": [
       "array([[4, 0, 4, 3],\n",
       "       [2, 1, 0, 0]], dtype=int64)"
      ]
     },
     "execution_count": 179,
     "metadata": {},
     "output_type": "execute_result"
    }
   ],
   "source": [
    "rng.integers(5, size=(2, 4)) "
   ]
  },
  {
   "cell_type": "code",
   "execution_count": 180,
   "id": "8f130ffe-e55b-4a06-a9c2-4f0974027cd0",
   "metadata": {},
   "outputs": [],
   "source": [
    "a = np.array([11, 11, 12, 13, 14, 15, 16, 17, 12, 13, 11, 14, 18, 19, 20])"
   ]
  },
  {
   "cell_type": "code",
   "execution_count": 181,
   "id": "3236295a-4542-4b78-afe4-74145e787be3",
   "metadata": {},
   "outputs": [],
   "source": [
    "unique_values = np.unique(a)"
   ]
  },
  {
   "cell_type": "code",
   "execution_count": 182,
   "id": "96150620-19cc-410a-adea-2324e1e195ac",
   "metadata": {},
   "outputs": [
    {
     "name": "stdout",
     "output_type": "stream",
     "text": [
      "[11 12 13 14 15 16 17 18 19 20]\n"
     ]
    }
   ],
   "source": [
    "print(unique_values)"
   ]
  },
  {
   "cell_type": "code",
   "execution_count": 183,
   "id": "7bf957fa-0174-4827-9c2f-a6c454ce7458",
   "metadata": {},
   "outputs": [],
   "source": [
    "unique_values, indices_list = np.unique(a, return_index=True)"
   ]
  },
  {
   "cell_type": "code",
   "execution_count": 184,
   "id": "5d7f53fc-866a-43f4-9026-1724042d4cfb",
   "metadata": {},
   "outputs": [
    {
     "name": "stdout",
     "output_type": "stream",
     "text": [
      "[ 0  2  3  4  5  6  7 12 13 14]\n"
     ]
    }
   ],
   "source": [
    "print(indices_list)"
   ]
  },
  {
   "cell_type": "code",
   "execution_count": 185,
   "id": "5328f055-12e7-4f54-a299-e58211fabd58",
   "metadata": {},
   "outputs": [],
   "source": [
    "unique_values, occurrence_count = np.unique(a, return_counts=True)"
   ]
  },
  {
   "cell_type": "code",
   "execution_count": 186,
   "id": "dd6248c9-6bd4-4d5b-8682-0369d7a47b76",
   "metadata": {},
   "outputs": [
    {
     "name": "stdout",
     "output_type": "stream",
     "text": [
      "[3 2 2 2 1 1 1 1 1 1]\n"
     ]
    }
   ],
   "source": [
    "print(occurrence_count)"
   ]
  },
  {
   "cell_type": "code",
   "execution_count": 187,
   "id": "e73c30c1-58ea-4ab0-8fe3-6f4cc372a727",
   "metadata": {},
   "outputs": [],
   "source": [
    "a_2d = np.array([[1, 2, 3, 4], [5, 6, 7, 8], [9, 10, 11, 12], [1, 2, 3, 4]])"
   ]
  },
  {
   "cell_type": "code",
   "execution_count": 188,
   "id": "c64abb0f-506a-4bb7-8ba4-9b701fd16b7f",
   "metadata": {},
   "outputs": [],
   "source": [
    "unique_values = np.unique(a_2d)"
   ]
  },
  {
   "cell_type": "code",
   "execution_count": 189,
   "id": "82e22d06-f445-46b8-bb38-baaf3e94f897",
   "metadata": {},
   "outputs": [
    {
     "name": "stdout",
     "output_type": "stream",
     "text": [
      "[ 1  2  3  4  5  6  7  8  9 10 11 12]\n"
     ]
    }
   ],
   "source": [
    "print(unique_values)"
   ]
  },
  {
   "cell_type": "code",
   "execution_count": 192,
   "id": "c0bfb563-6ff0-4a25-aa62-64bda749bea3",
   "metadata": {},
   "outputs": [],
   "source": [
    "unique_rows = np.unique(a_2d, axis=0)"
   ]
  },
  {
   "cell_type": "code",
   "execution_count": 193,
   "id": "68f78863-84b4-4710-8495-8506853cb5fe",
   "metadata": {},
   "outputs": [
    {
     "name": "stdout",
     "output_type": "stream",
     "text": [
      "[[ 1  2  3  4]\n",
      " [ 5  6  7  8]\n",
      " [ 9 10 11 12]]\n"
     ]
    }
   ],
   "source": [
    "print(unique_rows)"
   ]
  },
  {
   "cell_type": "code",
   "execution_count": 194,
   "id": "64c17c4e-b63d-4c2d-9da5-8c8f741e25e0",
   "metadata": {},
   "outputs": [],
   "source": [
    "unique_rows, indices, occurrence_count = np.unique(a_2d, axis=0, return_counts=True, return_index=True)"
   ]
  },
  {
   "cell_type": "code",
   "execution_count": 195,
   "id": "979173d1-5adc-4e7a-8cd5-d3c082c0e4a8",
   "metadata": {},
   "outputs": [
    {
     "name": "stdout",
     "output_type": "stream",
     "text": [
      "[[ 1  2  3  4]\n",
      " [ 5  6  7  8]\n",
      " [ 9 10 11 12]]\n"
     ]
    }
   ],
   "source": [
    "print(unique_rows)"
   ]
  },
  {
   "cell_type": "code",
   "execution_count": 196,
   "id": "a2855280-5f16-49e7-a2e2-107dc4b304aa",
   "metadata": {},
   "outputs": [
    {
     "name": "stdout",
     "output_type": "stream",
     "text": [
      "[0 1 2]\n"
     ]
    }
   ],
   "source": [
    "print(indices)"
   ]
  },
  {
   "cell_type": "code",
   "execution_count": 197,
   "id": "170db0ae-af09-4c58-b008-7f6f27344eba",
   "metadata": {},
   "outputs": [
    {
     "name": "stdout",
     "output_type": "stream",
     "text": [
      "[2 1 1]\n"
     ]
    }
   ],
   "source": [
    "print(occurrence_count)"
   ]
  },
  {
   "cell_type": "code",
   "execution_count": 198,
   "id": "8c26138d-1217-4280-8343-7d8f533e4551",
   "metadata": {},
   "outputs": [
    {
     "data": {
      "text/plain": [
       "array([[1, 2, 3],\n",
       "       [4, 5, 6]])"
      ]
     },
     "execution_count": 198,
     "metadata": {},
     "output_type": "execute_result"
    }
   ],
   "source": [
    "data.reshape(2, 3)"
   ]
  },
  {
   "cell_type": "code",
   "execution_count": 199,
   "id": "1d867f79-0c3e-4922-b592-ae78c7a67e97",
   "metadata": {},
   "outputs": [
    {
     "data": {
      "text/plain": [
       "array([[1, 2],\n",
       "       [3, 4],\n",
       "       [5, 6]])"
      ]
     },
     "execution_count": 199,
     "metadata": {},
     "output_type": "execute_result"
    }
   ],
   "source": [
    "data.reshape(3, 2)"
   ]
  },
  {
   "cell_type": "code",
   "execution_count": 200,
   "id": "d9bc864e-dd0c-4232-a454-947fad104ed1",
   "metadata": {},
   "outputs": [],
   "source": [
    "arr = np.arange(6).reshape((2, 3))"
   ]
  },
  {
   "cell_type": "code",
   "execution_count": 201,
   "id": "b1ef1809-bd58-4e50-9186-ec2ae507dedf",
   "metadata": {},
   "outputs": [
    {
     "data": {
      "text/plain": [
       "array([[0, 1, 2],\n",
       "       [3, 4, 5]])"
      ]
     },
     "execution_count": 201,
     "metadata": {},
     "output_type": "execute_result"
    }
   ],
   "source": [
    "arr"
   ]
  },
  {
   "cell_type": "code",
   "execution_count": 202,
   "id": "a5e4bd78-c8e2-461e-a29a-087aef7cb64d",
   "metadata": {},
   "outputs": [
    {
     "data": {
      "text/plain": [
       "array([[0, 3],\n",
       "       [1, 4],\n",
       "       [2, 5]])"
      ]
     },
     "execution_count": 202,
     "metadata": {},
     "output_type": "execute_result"
    }
   ],
   "source": [
    "arr.transpose()"
   ]
  },
  {
   "cell_type": "code",
   "execution_count": 203,
   "id": "3268e615-63bc-4d5c-a85d-c82233480c53",
   "metadata": {},
   "outputs": [
    {
     "data": {
      "text/plain": [
       "array([[0, 3],\n",
       "       [1, 4],\n",
       "       [2, 5]])"
      ]
     },
     "execution_count": 203,
     "metadata": {},
     "output_type": "execute_result"
    }
   ],
   "source": [
    "arr.T"
   ]
  },
  {
   "cell_type": "code",
   "execution_count": 204,
   "id": "99a254db-058f-4856-85b4-35e1c0fd9d4b",
   "metadata": {},
   "outputs": [],
   "source": [
    "arr = np.array([1, 2, 3, 4, 5, 6, 7, 8])"
   ]
  },
  {
   "cell_type": "code",
   "execution_count": 205,
   "id": "292ebc57-d92a-418a-8427-e60f757d1fd2",
   "metadata": {},
   "outputs": [],
   "source": [
    "reversed_arr = np.flip(arr)"
   ]
  },
  {
   "cell_type": "code",
   "execution_count": 206,
   "id": "b2a8bd5a-4fa6-457f-9839-3b7da638c06a",
   "metadata": {},
   "outputs": [
    {
     "name": "stdout",
     "output_type": "stream",
     "text": [
      "Reversed Array:  [8 7 6 5 4 3 2 1]\n"
     ]
    }
   ],
   "source": [
    "print('Reversed Array: ', reversed_arr)"
   ]
  },
  {
   "cell_type": "code",
   "execution_count": 207,
   "id": "818ae1e7-ff45-456a-b715-f3038c8f1587",
   "metadata": {},
   "outputs": [],
   "source": [
    "arr_2d = np.array([[1, 2, 3, 4], [5, 6, 7, 8], [9, 10, 11, 12]])"
   ]
  },
  {
   "cell_type": "code",
   "execution_count": 208,
   "id": "5e9e835d-f976-4873-bec6-e52eae86244f",
   "metadata": {},
   "outputs": [],
   "source": [
    "reversed_arr = np.flip(arr_2d)"
   ]
  },
  {
   "cell_type": "code",
   "execution_count": 209,
   "id": "dd9741d8-4037-423c-bfe3-bd5ad411867b",
   "metadata": {},
   "outputs": [
    {
     "name": "stdout",
     "output_type": "stream",
     "text": [
      "[[12 11 10  9]\n",
      " [ 8  7  6  5]\n",
      " [ 4  3  2  1]]\n"
     ]
    }
   ],
   "source": [
    "print(reversed_arr)"
   ]
  },
  {
   "cell_type": "code",
   "execution_count": 210,
   "id": "0ac7e6ff-6a51-4a8b-a578-4dc0c5d94357",
   "metadata": {},
   "outputs": [],
   "source": [
    "reversed_arr_rows = np.flip(arr_2d, axis=0)"
   ]
  },
  {
   "cell_type": "code",
   "execution_count": 211,
   "id": "7cf79b30-62c6-402f-a3ee-33873a753dd7",
   "metadata": {},
   "outputs": [
    {
     "name": "stdout",
     "output_type": "stream",
     "text": [
      "[[ 9 10 11 12]\n",
      " [ 5  6  7  8]\n",
      " [ 1  2  3  4]]\n"
     ]
    }
   ],
   "source": [
    "print(reversed_arr_rows)"
   ]
  },
  {
   "cell_type": "code",
   "execution_count": 212,
   "id": "08bd6dec-1483-45db-84d8-20ee77484477",
   "metadata": {},
   "outputs": [],
   "source": [
    "reversed_arr_columns = np.flip(arr_2d, axis=1)"
   ]
  },
  {
   "cell_type": "code",
   "execution_count": 213,
   "id": "a88dfd20-5539-4948-8372-6d367b6d647a",
   "metadata": {},
   "outputs": [
    {
     "name": "stdout",
     "output_type": "stream",
     "text": [
      "[[ 4  3  2  1]\n",
      " [ 8  7  6  5]\n",
      " [12 11 10  9]]\n"
     ]
    }
   ],
   "source": [
    "print(reversed_arr_columns)"
   ]
  },
  {
   "cell_type": "code",
   "execution_count": 214,
   "id": "930a0a68-af46-4298-b9e9-afd2828ebc75",
   "metadata": {},
   "outputs": [],
   "source": [
    "arr_2d[1] = np.flip(arr_2d[1])"
   ]
  },
  {
   "cell_type": "code",
   "execution_count": 215,
   "id": "fce72a4c-daa1-48be-a78e-79a5a5a99e94",
   "metadata": {},
   "outputs": [
    {
     "name": "stdout",
     "output_type": "stream",
     "text": [
      "[[ 1  2  3  4]\n",
      " [ 8  7  6  5]\n",
      " [ 9 10 11 12]]\n"
     ]
    }
   ],
   "source": [
    "print(arr_2d)"
   ]
  },
  {
   "cell_type": "code",
   "execution_count": 216,
   "id": "f600d9b8-9733-4f38-8e4e-6d427ae8ed01",
   "metadata": {},
   "outputs": [],
   "source": [
    "arr_2d[:,1] = np.flip(arr_2d[:,1])"
   ]
  },
  {
   "cell_type": "code",
   "execution_count": 217,
   "id": "fc4355ca-d2af-4f2d-b0d4-b524f8c1654c",
   "metadata": {},
   "outputs": [
    {
     "name": "stdout",
     "output_type": "stream",
     "text": [
      "[[ 1 10  3  4]\n",
      " [ 8  7  6  5]\n",
      " [ 9  2 11 12]]\n"
     ]
    }
   ],
   "source": [
    "print(arr_2d)"
   ]
  },
  {
   "cell_type": "code",
   "execution_count": 218,
   "id": "c4ec9902-ba0e-462d-8e56-dc3a37c1f581",
   "metadata": {},
   "outputs": [],
   "source": [
    "x = np.array([[1 , 2, 3, 4], [5, 6, 7, 8], [9, 10, 11, 12]])"
   ]
  },
  {
   "cell_type": "code",
   "execution_count": 219,
   "id": "37eb52e1-aabc-48a3-b911-94e859484f36",
   "metadata": {},
   "outputs": [
    {
     "data": {
      "text/plain": [
       "array([ 1,  2,  3,  4,  5,  6,  7,  8,  9, 10, 11, 12])"
      ]
     },
     "execution_count": 219,
     "metadata": {},
     "output_type": "execute_result"
    }
   ],
   "source": [
    "x.flatten()"
   ]
  },
  {
   "cell_type": "code",
   "execution_count": 220,
   "id": "2ad9be32-4286-4497-87bd-257c36a2ec19",
   "metadata": {},
   "outputs": [],
   "source": [
    "a1 = x.flatten()"
   ]
  },
  {
   "cell_type": "code",
   "execution_count": 221,
   "id": "c51242a9-e606-4c28-a12b-808252bf1a03",
   "metadata": {},
   "outputs": [],
   "source": [
    "a1[0] = 99"
   ]
  },
  {
   "cell_type": "code",
   "execution_count": 222,
   "id": "87712e11-30fc-49fd-b6af-9ef7ab5f13bc",
   "metadata": {},
   "outputs": [
    {
     "name": "stdout",
     "output_type": "stream",
     "text": [
      "[[ 1  2  3  4]\n",
      " [ 5  6  7  8]\n",
      " [ 9 10 11 12]]\n"
     ]
    }
   ],
   "source": [
    "print(x)"
   ]
  },
  {
   "cell_type": "code",
   "execution_count": 223,
   "id": "6ed3044c-5a79-4ba2-8571-4907506bb5f7",
   "metadata": {},
   "outputs": [
    {
     "name": "stdout",
     "output_type": "stream",
     "text": [
      "[99  2  3  4  5  6  7  8  9 10 11 12]\n"
     ]
    }
   ],
   "source": [
    "print(a1)"
   ]
  },
  {
   "cell_type": "code",
   "execution_count": 224,
   "id": "c3868856-12b6-4827-8fab-d8d764ef904c",
   "metadata": {},
   "outputs": [],
   "source": [
    "a2 = x.ravel()"
   ]
  },
  {
   "cell_type": "code",
   "execution_count": 225,
   "id": "c9424beb-a84d-405a-9049-10845d6e7b16",
   "metadata": {},
   "outputs": [],
   "source": [
    "a2[0]=98"
   ]
  },
  {
   "cell_type": "code",
   "execution_count": 226,
   "id": "8d711867-e106-461e-a1be-bd53b0e9495f",
   "metadata": {},
   "outputs": [
    {
     "name": "stdout",
     "output_type": "stream",
     "text": [
      "[[98  2  3  4]\n",
      " [ 5  6  7  8]\n",
      " [ 9 10 11 12]]\n"
     ]
    }
   ],
   "source": [
    "print(x)"
   ]
  },
  {
   "cell_type": "code",
   "execution_count": 227,
   "id": "55871a61-9257-4ba0-889e-750c050b913f",
   "metadata": {},
   "outputs": [
    {
     "name": "stdout",
     "output_type": "stream",
     "text": [
      "[98  2  3  4  5  6  7  8  9 10 11 12]\n"
     ]
    }
   ],
   "source": [
    "print(a2)"
   ]
  },
  {
   "cell_type": "code",
   "execution_count": null,
   "id": "5dae4df7-b2d1-4149-9185-1e2066b6e06f",
   "metadata": {},
   "outputs": [],
   "source": []
  }
 ],
 "metadata": {
  "kernelspec": {
   "display_name": "Python 3 (ipykernel)",
   "language": "python",
   "name": "python3"
  },
  "language_info": {
   "codemirror_mode": {
    "name": "ipython",
    "version": 3
   },
   "file_extension": ".py",
   "mimetype": "text/x-python",
   "name": "python",
   "nbconvert_exporter": "python",
   "pygments_lexer": "ipython3",
   "version": "3.12.2"
  }
 },
 "nbformat": 4,
 "nbformat_minor": 5
}
