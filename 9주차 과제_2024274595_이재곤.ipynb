{
 "cells": [
  {
   "cell_type": "code",
   "execution_count": 8,
   "id": "32a3e0d4-bddb-4234-8080-4c3bdf4cb2e6",
   "metadata": {},
   "outputs": [],
   "source": [
    "#1부터 5까지 정수리스트 만들기"
   ]
  },
  {
   "cell_type": "code",
   "execution_count": 9,
   "id": "27a29d24-3154-468b-8706-e647ef4e3ea6",
   "metadata": {},
   "outputs": [],
   "source": [
    "number_list1 = []\n",
    "number_list1.append(1)\n",
    "number_list1.append(2)\n",
    "number_list1.append(3)\n",
    "number_list1.append(4)\n",
    "number_list1.append(5)"
   ]
  },
  {
   "cell_type": "code",
   "execution_count": 10,
   "id": "b5e4ec92-e900-430e-b8fa-61aa398cf36e",
   "metadata": {},
   "outputs": [
    {
     "name": "stdout",
     "output_type": "stream",
     "text": [
      "[1, 2, 3, 4, 5]\n"
     ]
    }
   ],
   "source": [
    "print(number_list1)"
   ]
  },
  {
   "cell_type": "code",
   "execution_count": 11,
   "id": "0f4aa683-892b-40b7-b951-fef7207f3116",
   "metadata": {},
   "outputs": [],
   "source": [
    "number_list2 = []\n",
    "for number in range(1,6):\n",
    "    number_list2.append(number)"
   ]
  },
  {
   "cell_type": "code",
   "execution_count": 12,
   "id": "b4ab24b0-fe67-4bc2-bf39-2839b620869f",
   "metadata": {},
   "outputs": [
    {
     "name": "stdout",
     "output_type": "stream",
     "text": [
      "[1, 2, 3, 4, 5]\n"
     ]
    }
   ],
   "source": [
    "print(number_list2)"
   ]
  },
  {
   "cell_type": "code",
   "execution_count": 13,
   "id": "e398e93b-2914-406f-933e-bb1f82ef445a",
   "metadata": {},
   "outputs": [],
   "source": [
    "number_list3 = list(range(1,6))"
   ]
  },
  {
   "cell_type": "code",
   "execution_count": 15,
   "id": "10c8f9ee-ef70-4b3e-9f56-cf3daa61d03d",
   "metadata": {},
   "outputs": [
    {
     "name": "stdout",
     "output_type": "stream",
     "text": [
      "[1, 2, 3, 4, 5]\n"
     ]
    }
   ],
   "source": [
    "print(number_list3)"
   ]
  },
  {
   "cell_type": "code",
   "execution_count": 16,
   "id": "8ce9166a-985a-46d7-b18b-fc813775f1f9",
   "metadata": {},
   "outputs": [],
   "source": [
    "#1부터 5까지 정수 리스트 만들기 - List comprehension"
   ]
  },
  {
   "cell_type": "code",
   "execution_count": 17,
   "id": "b8d0c2ae-d5c2-4c9f-8d70-9f3b4d9c6984",
   "metadata": {},
   "outputs": [],
   "source": [
    "number_list4= [number for number in range(1,6)]"
   ]
  },
  {
   "cell_type": "code",
   "execution_count": 18,
   "id": "56193bbe-dba2-4b62-b4fb-33ecc1445821",
   "metadata": {},
   "outputs": [
    {
     "data": {
      "text/plain": [
       "[1, 2, 3, 4, 5]"
      ]
     },
     "execution_count": 18,
     "metadata": {},
     "output_type": "execute_result"
    }
   ],
   "source": [
    "number_list4"
   ]
  },
  {
   "cell_type": "code",
   "execution_count": 19,
   "id": "ad129782-3795-4fcf-9373-c60268b5dbb8",
   "metadata": {},
   "outputs": [],
   "source": [
    "#함수적용"
   ]
  },
  {
   "cell_type": "code",
   "execution_count": 26,
   "id": "790eea3f-c302-49e1-8ff0-779d3bb91c83",
   "metadata": {},
   "outputs": [],
   "source": [
    "number_list5= [number -1 for number in range(1,6)]"
   ]
  },
  {
   "cell_type": "code",
   "execution_count": 27,
   "id": "151d2264-36d6-456a-a74f-3a2a52aebc66",
   "metadata": {},
   "outputs": [
    {
     "data": {
      "text/plain": [
       "[0, 1, 2, 3, 4]"
      ]
     },
     "execution_count": 27,
     "metadata": {},
     "output_type": "execute_result"
    }
   ],
   "source": [
    "number_list5"
   ]
  },
  {
   "cell_type": "code",
   "execution_count": 23,
   "id": "c821a903-18ec-4362-bd85-c203d9c2bd5a",
   "metadata": {},
   "outputs": [],
   "source": [
    "#조건 적용"
   ]
  },
  {
   "cell_type": "code",
   "execution_count": 24,
   "id": "5fcbf062-0418-4158-a580-53a13078bd4d",
   "metadata": {},
   "outputs": [],
   "source": [
    "a_list = [number for number in range(1,6) if number % 2 ==1 ]"
   ]
  },
  {
   "cell_type": "code",
   "execution_count": 25,
   "id": "76f2b207-1e12-458d-8275-fae372cec90e",
   "metadata": {},
   "outputs": [
    {
     "data": {
      "text/plain": [
       "[1, 3, 5]"
      ]
     },
     "execution_count": 25,
     "metadata": {},
     "output_type": "execute_result"
    }
   ],
   "source": [
    "a_list"
   ]
  },
  {
   "cell_type": "code",
   "execution_count": 32,
   "id": "623e637c-a233-458f-a7f5-6544ea744c78",
   "metadata": {},
   "outputs": [],
   "source": [
    "#for 문을 사용한다면"
   ]
  },
  {
   "cell_type": "code",
   "execution_count": 30,
   "id": "177281f3-826b-46b6-b0f1-b0f7cf244f77",
   "metadata": {},
   "outputs": [],
   "source": [
    "a_list1 = []\n",
    "for number in range(1,6):\n",
    "    if number%2 == 1:\n",
    "        a_list1.append(number)"
   ]
  },
  {
   "cell_type": "code",
   "execution_count": 31,
   "id": "7dedc1c0-9eaa-459c-b1c6-f261059f7383",
   "metadata": {},
   "outputs": [
    {
     "data": {
      "text/plain": [
       "[1, 3, 5]"
      ]
     },
     "execution_count": 31,
     "metadata": {},
     "output_type": "execute_result"
    }
   ],
   "source": [
    "a_list1"
   ]
  },
  {
   "cell_type": "code",
   "execution_count": 40,
   "id": "e360186b-323d-4a24-a835-dd58b467cf3b",
   "metadata": {},
   "outputs": [],
   "source": [
    "sentence = ['I','Love','Python','Soooooo','MUCH!!!']"
   ]
  },
  {
   "cell_type": "code",
   "execution_count": 41,
   "id": "3e952ed8-495a-49cf-b31d-9ca22bcb015c",
   "metadata": {},
   "outputs": [
    {
     "data": {
      "text/plain": [
       "['I', 'Love', 'Python', 'Soooooo', 'MUCH!!!']"
      ]
     },
     "execution_count": 41,
     "metadata": {},
     "output_type": "execute_result"
    }
   ],
   "source": [
    "sentence"
   ]
  },
  {
   "cell_type": "code",
   "execution_count": 42,
   "id": "50622050-78c9-469d-b8c0-ca75808f28ff",
   "metadata": {},
   "outputs": [
    {
     "name": "stdout",
     "output_type": "stream",
     "text": [
      "['I', 'Love', 'Python', 'Soooooo', 'MUCH!!!']\n"
     ]
    }
   ],
   "source": [
    "print(sentence)"
   ]
  },
  {
   "cell_type": "code",
   "execution_count": 43,
   "id": "372ba929-1b72-4066-93c5-cb3e87111cd3",
   "metadata": {},
   "outputs": [],
   "source": [
    "#함수적용"
   ]
  },
  {
   "cell_type": "code",
   "execution_count": 44,
   "id": "e0d4c2e9-102c-463f-8f5e-8575c57eb9a4",
   "metadata": {},
   "outputs": [
    {
     "data": {
      "text/plain": [
       "['i', 'love', 'python', 'soooooo', 'much!!!']"
      ]
     },
     "execution_count": 44,
     "metadata": {},
     "output_type": "execute_result"
    }
   ],
   "source": [
    "[word.lower() for word in sentence]"
   ]
  },
  {
   "cell_type": "code",
   "execution_count": 45,
   "id": "32966cc9-2bf8-4fc8-9eeb-f7ef5e228991",
   "metadata": {},
   "outputs": [],
   "source": [
    "#조건적용"
   ]
  },
  {
   "cell_type": "code",
   "execution_count": 46,
   "id": "d5986814-4f30-4bdd-89b4-d8b4653a95c2",
   "metadata": {},
   "outputs": [
    {
     "data": {
      "text/plain": [
       "['Soooooo', 'MUCH!!!']"
      ]
     },
     "execution_count": 46,
     "metadata": {},
     "output_type": "execute_result"
    }
   ],
   "source": [
    "[word for word in sentence if len(word) > 6]"
   ]
  },
  {
   "cell_type": "code",
   "execution_count": 47,
   "id": "925967cd-59e7-417a-b98e-4f11f41278f0",
   "metadata": {},
   "outputs": [],
   "source": [
    "#함수 적용하여 튜플로 저장"
   ]
  },
  {
   "cell_type": "code",
   "execution_count": 49,
   "id": "c7fe9bcc-4ab0-4986-a62d-f79fcb12b6e6",
   "metadata": {},
   "outputs": [
    {
     "data": {
      "text/plain": [
       "[(0, 0, 0),\n",
       " (1, 1, 1),\n",
       " (2, 4, 8),\n",
       " (3, 9, 27),\n",
       " (4, 16, 64),\n",
       " (5, 25, 125),\n",
       " (6, 36, 216),\n",
       " (7, 49, 343),\n",
       " (8, 64, 512),\n",
       " (9, 81, 729)]"
      ]
     },
     "execution_count": 49,
     "metadata": {},
     "output_type": "execute_result"
    }
   ],
   "source": [
    "[(x,x**2,x**3) for x in range(10)]"
   ]
  },
  {
   "cell_type": "code",
   "execution_count": 51,
   "id": "acbe76b7-df78-4cb7-b339-864afcab8626",
   "metadata": {},
   "outputs": [],
   "source": [
    "# 두 개의 for"
   ]
  },
  {
   "cell_type": "code",
   "execution_count": 50,
   "id": "d00e9bfb-dd05-4147-9a9e-98ac3e7e5a59",
   "metadata": {},
   "outputs": [
    {
     "name": "stdout",
     "output_type": "stream",
     "text": [
      "1 1\n",
      "1 2\n",
      "2 1\n",
      "2 2\n",
      "3 1\n",
      "3 2\n"
     ]
    }
   ],
   "source": [
    "rows = range(1,4)\n",
    "cols = range(1,3)\n",
    "for row in rows:\n",
    "    for col in cols:\n",
    "        print(row, col)"
   ]
  },
  {
   "cell_type": "code",
   "execution_count": 52,
   "id": "78fd4bcf-e776-46b9-91cd-5e37ae2f9a1a",
   "metadata": {},
   "outputs": [],
   "source": [
    "# 위를 리스트 내포로 작성해보자. "
   ]
  },
  {
   "cell_type": "code",
   "execution_count": 53,
   "id": "b9d9c718-e93e-403e-80f7-385cdcc95519",
   "metadata": {},
   "outputs": [
    {
     "name": "stdout",
     "output_type": "stream",
     "text": [
      "(1, 1)\n",
      "(1, 2)\n",
      "(2, 1)\n",
      "(2, 2)\n",
      "(3, 1)\n",
      "(3, 2)\n"
     ]
    }
   ],
   "source": [
    "rows = range(1,4)\n",
    "cols = range(1,3)\n",
    "cells = [(row, col) for row in rows for col in cols]\n",
    "for cell in cells:\n",
    "    print(cell)"
   ]
  },
  {
   "cell_type": "code",
   "execution_count": 55,
   "id": "64b0b756-2417-4785-9e4a-0f21c526ae1a",
   "metadata": {},
   "outputs": [],
   "source": [
    "#다음은 어떤 결과가?"
   ]
  },
  {
   "cell_type": "code",
   "execution_count": 54,
   "id": "fa157161-6684-4756-9c06-08e90cf33e60",
   "metadata": {},
   "outputs": [
    {
     "data": {
      "text/plain": [
       "[(1, 0),\n",
       " (2, 0),\n",
       " (2, 1),\n",
       " (3, 0),\n",
       " (3, 1),\n",
       " (3, 2),\n",
       " (4, 0),\n",
       " (4, 1),\n",
       " (4, 2),\n",
       " (4, 3)]"
      ]
     },
     "execution_count": 54,
     "metadata": {},
     "output_type": "execute_result"
    }
   ],
   "source": [
    "[(i,j) for i in range(5) for j in range(i)]"
   ]
  },
  {
   "cell_type": "code",
   "execution_count": 56,
   "id": "6f7e1aec-b567-469d-afd4-a6f0a8d5205e",
   "metadata": {},
   "outputs": [],
   "source": [
    "#Dictionary comprehension"
   ]
  },
  {
   "cell_type": "code",
   "execution_count": 59,
   "id": "6fc01896-b409-4a1b-bce2-2fcc58e19ffe",
   "metadata": {},
   "outputs": [],
   "source": [
    "word = 'letters'\n",
    "letter_counts = {letter : word.count(letter) for letter in word}"
   ]
  },
  {
   "cell_type": "code",
   "execution_count": 61,
   "id": "6bd2d97c-9b60-47ad-a53d-48c8bc35b357",
   "metadata": {},
   "outputs": [
    {
     "data": {
      "text/plain": [
       "{'l': 1, 'e': 2, 't': 2, 'r': 1, 's': 1}"
      ]
     },
     "execution_count": 61,
     "metadata": {},
     "output_type": "execute_result"
    }
   ],
   "source": [
    "letter_counts"
   ]
  },
  {
   "cell_type": "code",
   "execution_count": 64,
   "id": "0a986135-e61e-4b40-801d-a83c2009427d",
   "metadata": {},
   "outputs": [],
   "source": [
    "# 이 코드에는 비효율적인 부분이 있다. 다른 방식으로 코딩"
   ]
  },
  {
   "cell_type": "code",
   "execution_count": 78,
   "id": "4283ae9b-ad59-41e2-b2ef-400005026253",
   "metadata": {},
   "outputs": [],
   "source": [
    "word = 'letters'\n",
    "letter_counts1 = {letter : word.count(letter) for letter in word}"
   ]
  },
  {
   "cell_type": "code",
   "execution_count": 79,
   "id": "72e6facf-8e53-4fbc-b3ac-cb5a4448fc8f",
   "metadata": {},
   "outputs": [
    {
     "data": {
      "text/plain": [
       "{'l': 1, 'e': 2, 't': 2, 'r': 1, 's': 1}"
      ]
     },
     "execution_count": 79,
     "metadata": {},
     "output_type": "execute_result"
    }
   ],
   "source": [
    "letter_counts1"
   ]
  },
  {
   "cell_type": "code",
   "execution_count": 80,
   "id": "29327e37-4084-4c42-a6d1-28b0fdfee139",
   "metadata": {},
   "outputs": [],
   "source": [
    "#Set comprehension"
   ]
  },
  {
   "cell_type": "code",
   "execution_count": 81,
   "id": "4d11b336-4e60-4df1-917b-bb1ecd356fc0",
   "metadata": {},
   "outputs": [],
   "source": [
    "a_set = {number for number in range(1,6) if number % 3 ==1}"
   ]
  },
  {
   "cell_type": "code",
   "execution_count": 82,
   "id": "f8e60814-5c59-4375-a55f-86bb5645a990",
   "metadata": {},
   "outputs": [
    {
     "data": {
      "text/plain": [
       "{1, 4}"
      ]
     },
     "execution_count": 82,
     "metadata": {},
     "output_type": "execute_result"
    }
   ],
   "source": [
    "a_set"
   ]
  },
  {
   "cell_type": "code",
   "execution_count": 83,
   "id": "f429ab5a-5fec-46d5-b23f-3c3b251406ee",
   "metadata": {},
   "outputs": [],
   "source": [
    "#Functions_예제"
   ]
  },
  {
   "cell_type": "code",
   "execution_count": 84,
   "id": "6e6ecb53-0e6f-4e5d-8a65-6dc5caf48447",
   "metadata": {},
   "outputs": [],
   "source": [
    "def sum(a,b):\n",
    "    return a+b"
   ]
  },
  {
   "cell_type": "code",
   "execution_count": 85,
   "id": "a5931bfc-7bef-4b6c-a1aa-0fadb07e924d",
   "metadata": {},
   "outputs": [
    {
     "data": {
      "text/plain": [
       "3"
      ]
     },
     "execution_count": 85,
     "metadata": {},
     "output_type": "execute_result"
    }
   ],
   "source": [
    "sum(1,2)"
   ]
  },
  {
   "cell_type": "code",
   "execution_count": 87,
   "id": "24a37769-c28c-48b0-ab14-4e1bd8911410",
   "metadata": {},
   "outputs": [
    {
     "data": {
      "text/plain": [
       "4.4"
      ]
     },
     "execution_count": 87,
     "metadata": {},
     "output_type": "execute_result"
    }
   ],
   "source": [
    "sum(1.3,3.1)"
   ]
  },
  {
   "cell_type": "code",
   "execution_count": 89,
   "id": "535dba4c-5a07-469b-8388-aa2ed184644b",
   "metadata": {},
   "outputs": [
    {
     "data": {
      "text/plain": [
       "'love python'"
      ]
     },
     "execution_count": 89,
     "metadata": {},
     "output_type": "execute_result"
    }
   ],
   "source": [
    "sum('love ','python')"
   ]
  },
  {
   "cell_type": "code",
   "execution_count": 91,
   "id": "73b16df1-d3e5-4617-9127-caabb8172951",
   "metadata": {},
   "outputs": [
    {
     "name": "stdout",
     "output_type": "stream",
     "text": [
      "Monday : drink coffee -eat banana -enjoy tiramisu\n",
      "Tuesday : drink tea -eat orange -enjoy ice cream\n",
      "Wednesday : drink beer -eat peach -enjoy pie\n"
     ]
    }
   ],
   "source": [
    "days = ['Monday', 'Tuesday','Wednesday']\n",
    "fruits = ['banana', 'orange', 'peach']\n",
    "drinks = ['coffee', 'tea', 'beer']\n",
    "desserts=['tiramisu','ice cream', 'pie', 'pudding']\n",
    "\n",
    "for day,fruit,drink,dessert in zip(days,fruits,drinks,desserts):\n",
    "    print(day,\": drink\",drink,\"-eat\",fruit,\"-enjoy\",dessert)"
   ]
  },
  {
   "cell_type": "code",
   "execution_count": 92,
   "id": "821b63e8-5556-48eb-8e53-5381a1c13cea",
   "metadata": {},
   "outputs": [],
   "source": [
    "english = 'Monday','Tuesday','Wednesday'\n",
    "french = 'Lundi','Mardi','Merceredi'"
   ]
  },
  {
   "cell_type": "code",
   "execution_count": 94,
   "id": "de3c0842-70f0-406a-9239-75bbee94459e",
   "metadata": {},
   "outputs": [
    {
     "data": {
      "text/plain": [
       "[('Monday', 'Lundi'), ('Tuesday', 'Mardi'), ('Wednesday', 'Merceredi')]"
      ]
     },
     "execution_count": 94,
     "metadata": {},
     "output_type": "execute_result"
    }
   ],
   "source": [
    "list(zip(english ,french))"
   ]
  },
  {
   "cell_type": "code",
   "execution_count": 95,
   "id": "a386cab9-dbe9-4a4f-8747-4140922d31e4",
   "metadata": {},
   "outputs": [
    {
     "data": {
      "text/plain": [
       "{'Monday': 'Lundi', 'Tuesday': 'Mardi', 'Wednesday': 'Merceredi'}"
      ]
     },
     "execution_count": 95,
     "metadata": {},
     "output_type": "execute_result"
    }
   ],
   "source": [
    "dict(zip(english,french))"
   ]
  },
  {
   "cell_type": "code",
   "execution_count": 96,
   "id": "92eec1b7-0cb8-489b-804f-23ef0a1b6c3b",
   "metadata": {},
   "outputs": [],
   "source": [
    "#wine, entree, dessert를 받아서 딕셔너리로 만들어 반환하는 함수"
   ]
  },
  {
   "cell_type": "code",
   "execution_count": 98,
   "id": "7ec99a90-611a-40ad-ab95-418a4ed7d8cc",
   "metadata": {},
   "outputs": [],
   "source": [
    "def menu(wine, entree, dessert):\n",
    "    return {'wine':wine, 'entree':entree, 'dessert':dessert}"
   ]
  },
  {
   "cell_type": "code",
   "execution_count": 99,
   "id": "acb8ab82-e073-4eba-9110-e44e5e1eb632",
   "metadata": {},
   "outputs": [
    {
     "data": {
      "text/plain": [
       "{'wine': 'chardonnay', 'entree': 'chicken', 'dessert': 'cake'}"
      ]
     },
     "execution_count": 99,
     "metadata": {},
     "output_type": "execute_result"
    }
   ],
   "source": [
    "menu('chardonnay','chicken','cake')"
   ]
  },
  {
   "cell_type": "code",
   "execution_count": 101,
   "id": "774f9673-e509-42af-b49d-29197eaa74ab",
   "metadata": {},
   "outputs": [],
   "source": [
    "#Wine, entree dessert를 받아서 딕셔너리로 만들어 반환하는 함수"
   ]
  },
  {
   "cell_type": "code",
   "execution_count": 102,
   "id": "175e6872-f65b-455a-adc6-1ffd0aee6eaa",
   "metadata": {},
   "outputs": [
    {
     "data": {
      "text/plain": [
       "{'wine': 'bordeaux', 'entree': 'beef', 'dessert': 'bagel'}"
      ]
     },
     "execution_count": 102,
     "metadata": {},
     "output_type": "execute_result"
    }
   ],
   "source": [
    "menu(entree='beef',dessert='bagel',wine='bordeaux')"
   ]
  },
  {
   "cell_type": "code",
   "execution_count": 103,
   "id": "2051ab42-4d42-4c1e-8c3b-c150690dfa63",
   "metadata": {},
   "outputs": [
    {
     "data": {
      "text/plain": [
       "{'wine': 'frontnac', 'entree': 'fish', 'dessert': 'flan'}"
      ]
     },
     "execution_count": 103,
     "metadata": {},
     "output_type": "execute_result"
    }
   ],
   "source": [
    "menu('frontnac',dessert = 'flan', entree='fish')"
   ]
  },
  {
   "cell_type": "code",
   "execution_count": 105,
   "id": "27574a8b-3e45-479a-999d-8c4979070510",
   "metadata": {},
   "outputs": [],
   "source": [
    "def menu(wine, entree, dessert='pudding'):\n",
    "    return {'wine':wine, 'entree':entree, 'dessert':dessert}"
   ]
  },
  {
   "cell_type": "code",
   "execution_count": 106,
   "id": "a6cf691c-ff09-4857-92d1-7b8cdac6a4dc",
   "metadata": {},
   "outputs": [
    {
     "data": {
      "text/plain": [
       "{'wine': 'chardonnay', 'entree': 'chicken', 'dessert': 'pudding'}"
      ]
     },
     "execution_count": 106,
     "metadata": {},
     "output_type": "execute_result"
    }
   ],
   "source": [
    "menu('chardonnay','chicken')"
   ]
  },
  {
   "cell_type": "code",
   "execution_count": 107,
   "id": "843785a0-9d34-40b3-ba0d-183dc619e2ff",
   "metadata": {},
   "outputs": [
    {
     "data": {
      "text/plain": [
       "{'wine': 'dunkelfelder', 'entree': 'duck', 'dessert': 'doughnut'}"
      ]
     },
     "execution_count": 107,
     "metadata": {},
     "output_type": "execute_result"
    }
   ],
   "source": [
    "menu('dunkelfelder','duck','doughnut')"
   ]
  },
  {
   "cell_type": "code",
   "execution_count": 108,
   "id": "a9ab9127-5bdd-4034-931d-e1ed236238c0",
   "metadata": {},
   "outputs": [],
   "source": [
    "def menu(price,wine='chardonnay', entree='chicken', dessert='pudding'):\n",
    "    return {'price':price,'wine':wine, 'entree':entree, 'dessert':dessert}"
   ]
  },
  {
   "cell_type": "code",
   "execution_count": 109,
   "id": "1f2ab957-df52-488e-9828-1387a658a1ce",
   "metadata": {},
   "outputs": [
    {
     "data": {
      "text/plain": [
       "{'price': 100, 'wine': 'chardonnay', 'entree': 'chicken', 'dessert': 'pudding'}"
      ]
     },
     "execution_count": 109,
     "metadata": {},
     "output_type": "execute_result"
    }
   ],
   "source": [
    "menu(100)"
   ]
  },
  {
   "cell_type": "code",
   "execution_count": 110,
   "id": "3a0cacd5-38f6-4935-bf7e-a4de9e5e5f45",
   "metadata": {},
   "outputs": [
    {
     "data": {
      "text/plain": [
       "{'price': 100, 'wine': 'chardonnay', 'entree': 'chicken', 'dessert': 'pudding'}"
      ]
     },
     "execution_count": 110,
     "metadata": {},
     "output_type": "execute_result"
    }
   ],
   "source": [
    "menu(price=100)"
   ]
  },
  {
   "cell_type": "code",
   "execution_count": 111,
   "id": "afbe1b25-cc33-4723-bf7e-05ee472fe4df",
   "metadata": {},
   "outputs": [
    {
     "data": {
      "text/plain": [
       "{'price': 120, 'wine': 'chardonnay', 'entree': 'beef', 'dessert': 'pudding'}"
      ]
     },
     "execution_count": 111,
     "metadata": {},
     "output_type": "execute_result"
    }
   ],
   "source": [
    "menu(price=120, entree='beef')"
   ]
  },
  {
   "cell_type": "code",
   "execution_count": 113,
   "id": "8b1c8508-8294-41a5-98de-8cbfff3dd0c3",
   "metadata": {},
   "outputs": [
    {
     "data": {
      "text/plain": [
       "{'price': 110, 'wine': 'chardonnay', 'entree': 'chicken', 'dessert': 'begal'}"
      ]
     },
     "execution_count": 113,
     "metadata": {},
     "output_type": "execute_result"
    }
   ],
   "source": [
    "menu(dessert='begal', price=110)"
   ]
  },
  {
   "cell_type": "code",
   "execution_count": 114,
   "id": "9b6a9eb9-7168-401c-ae94-525f9ab042b0",
   "metadata": {},
   "outputs": [
    {
     "data": {
      "text/plain": [
       "{'price': 'eighty',\n",
       " 'wine': 'saint=pierre',\n",
       " 'entree': 'fish',\n",
       " 'dessert': 'pudding'}"
      ]
     },
     "execution_count": 114,
     "metadata": {},
     "output_type": "execute_result"
    }
   ],
   "source": [
    "menu('eighty','saint=pierre','fish')"
   ]
  },
  {
   "cell_type": "code",
   "execution_count": 115,
   "id": "0b9304b0-a878-4fa1-bc92-6923165794ea",
   "metadata": {},
   "outputs": [
    {
     "data": {
      "text/plain": [
       "{'price': 'hundred',\n",
       " 'wine': 'saint-pierre',\n",
       " 'entree': 'chicken',\n",
       " 'dessert': 'pudding'}"
      ]
     },
     "execution_count": 115,
     "metadata": {},
     "output_type": "execute_result"
    }
   ],
   "source": [
    "menu('hundred',wine='saint-pierre')"
   ]
  },
  {
   "cell_type": "code",
   "execution_count": 120,
   "id": "4bfe32f2-6862-4adf-9dc6-2ef4599ccebf",
   "metadata": {},
   "outputs": [
    {
     "ename": "TypeError",
     "evalue": "menu() missing 1 required positional argument: 'price'",
     "output_type": "error",
     "traceback": [
      "\u001b[1;31m---------------------------------------------------------------------------\u001b[0m",
      "\u001b[1;31mTypeError\u001b[0m                                 Traceback (most recent call last)",
      "Cell \u001b[1;32mIn[120], line 2\u001b[0m\n\u001b[0;32m      1\u001b[0m \u001b[38;5;66;03m#price에 인자가 할당이 안됨\u001b[39;00m\n\u001b[1;32m----> 2\u001b[0m \u001b[43mmenu\u001b[49m\u001b[43m(\u001b[49m\u001b[43m)\u001b[49m\n",
      "\u001b[1;31mTypeError\u001b[0m: menu() missing 1 required positional argument: 'price'"
     ]
    }
   ],
   "source": [
    "#price에 인자가 할당이 안됨\n",
    "menu()"
   ]
  },
  {
   "cell_type": "code",
   "execution_count": 121,
   "id": "ab7588ab-5110-403d-841e-0d609bd87966",
   "metadata": {},
   "outputs": [
    {
     "ename": "SyntaxError",
     "evalue": "positional argument follows keyword argument (600493221.py, line 2)",
     "output_type": "error",
     "traceback": [
      "\u001b[1;36m  Cell \u001b[1;32mIn[121], line 2\u001b[1;36m\u001b[0m\n\u001b[1;33m    menu(price=100,'saint-pierre')\u001b[0m\n\u001b[1;37m                                 ^\u001b[0m\n\u001b[1;31mSyntaxError\u001b[0m\u001b[1;31m:\u001b[0m positional argument follows keyword argument\n"
     ]
    }
   ],
   "source": [
    "#키워드 인자 할당후, 위치 인자\n",
    "menu(price=100,'saint-pierre')"
   ]
  },
  {
   "cell_type": "code",
   "execution_count": 122,
   "id": "5bd5b000-1060-4303-a547-7cae3ea04e11",
   "metadata": {},
   "outputs": [
    {
     "ename": "NameError",
     "evalue": "name 'price' is not defined",
     "output_type": "error",
     "traceback": [
      "\u001b[1;31m---------------------------------------------------------------------------\u001b[0m",
      "\u001b[1;31mNameError\u001b[0m                                 Traceback (most recent call last)",
      "Cell \u001b[1;32mIn[122], line 2\u001b[0m\n\u001b[0;32m      1\u001b[0m \u001b[38;5;66;03m#같은 변수에 두 번 할당\u001b[39;00m\n\u001b[1;32m----> 2\u001b[0m menu(\u001b[38;5;241m100\u001b[39m, \u001b[43mprice\u001b[49m\u001b[38;5;241m-\u001b[39m\u001b[38;5;241m120\u001b[39m)\n",
      "\u001b[1;31mNameError\u001b[0m: name 'price' is not defined"
     ]
    }
   ],
   "source": [
    "#같은 변수에 두 번 할당\n",
    "menu(100, price-120)"
   ]
  },
  {
   "cell_type": "code",
   "execution_count": 123,
   "id": "d27c65b7-6896-4cae-abd7-d7dc1ca23271",
   "metadata": {},
   "outputs": [
    {
     "ename": "TypeError",
     "evalue": "menu() got an unexpected keyword argument 'main'",
     "output_type": "error",
     "traceback": [
      "\u001b[1;31m---------------------------------------------------------------------------\u001b[0m",
      "\u001b[1;31mTypeError\u001b[0m                                 Traceback (most recent call last)",
      "Cell \u001b[1;32mIn[123], line 2\u001b[0m\n\u001b[0;32m      1\u001b[0m \u001b[38;5;66;03m#정의되지 않은 매개변수\u001b[39;00m\n\u001b[1;32m----> 2\u001b[0m \u001b[43mmenu\u001b[49m\u001b[43m(\u001b[49m\u001b[43mmain\u001b[49m\u001b[38;5;241;43m=\u001b[39;49m\u001b[38;5;124;43m'\u001b[39;49m\u001b[38;5;124;43mcream pasta\u001b[39;49m\u001b[38;5;124;43m'\u001b[39;49m\u001b[43m)\u001b[49m\n",
      "\u001b[1;31mTypeError\u001b[0m: menu() got an unexpected keyword argument 'main'"
     ]
    }
   ],
   "source": [
    "#정의되지 않은 매개변수\n",
    "menu(main='cream pasta')"
   ]
  },
  {
   "cell_type": "code",
   "execution_count": 124,
   "id": "5e8ffdf0-0177-487b-bc2b-c95b4913d5ab",
   "metadata": {},
   "outputs": [],
   "source": [
    "#함수 시작 부분에 문자열을 포함하여 함수 정의에 문서를 붙일 수 있음."
   ]
  },
  {
   "cell_type": "code",
   "execution_count": 126,
   "id": "a87eaf7e-92f0-4524-a0f8-668cd40563a9",
   "metadata": {},
   "outputs": [],
   "source": [
    "def echo(anything):\n",
    "    'echo retruns its input argument'\n",
    "    return anything"
   ]
  },
  {
   "cell_type": "code",
   "execution_count": 128,
   "id": "08160e02-4ac8-4042-a570-9636f2ccdf5d",
   "metadata": {},
   "outputs": [],
   "source": [
    "def print_if_true(thing, check):\n",
    "    \"\"\"\n",
    "    Prints the first argument if a second argument si true.\n",
    "    The operation is:\n",
    "       1. Check whether the *second* argument is true. \n",
    "       2. If it is, print the *first* argument. \n",
    "    \"\"\"\n",
    "    if check:\n",
    "        print(thing)"
   ]
  },
  {
   "cell_type": "code",
   "execution_count": 129,
   "id": "36932e4c-7264-4aa9-aacf-cefadfaa0db5",
   "metadata": {},
   "outputs": [
    {
     "name": "stdout",
     "output_type": "stream",
     "text": [
      "Help on function echo in module __main__:\n",
      "\n",
      "echo(anything)\n",
      "    echo retruns its input argument\n",
      "\n"
     ]
    }
   ],
   "source": [
    "help(echo)"
   ]
  },
  {
   "cell_type": "code",
   "execution_count": 130,
   "id": "8baf4014-be14-4d93-9c11-04418fe8d818",
   "metadata": {},
   "outputs": [
    {
     "name": "stdout",
     "output_type": "stream",
     "text": [
      "echo retruns its input argument\n"
     ]
    }
   ],
   "source": [
    "print(echo.__doc__)"
   ]
  },
  {
   "cell_type": "code",
   "execution_count": null,
   "id": "9875456f-d318-4c38-b55f-cba0a97d9c2d",
   "metadata": {},
   "outputs": [],
   "source": []
  }
 ],
 "metadata": {
  "kernelspec": {
   "display_name": "Python 3 (ipykernel)",
   "language": "python",
   "name": "python3"
  },
  "language_info": {
   "codemirror_mode": {
    "name": "ipython",
    "version": 3
   },
   "file_extension": ".py",
   "mimetype": "text/x-python",
   "name": "python",
   "nbconvert_exporter": "python",
   "pygments_lexer": "ipython3",
   "version": "3.12.2"
  }
 },
 "nbformat": 4,
 "nbformat_minor": 5
}
